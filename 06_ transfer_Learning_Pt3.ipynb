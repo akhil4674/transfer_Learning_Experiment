{
 "cells": [
  {
   "cell_type": "markdown",
   "metadata": {},
   "source": [
    "# Transfer-Learning , Scaled Up models \n",
    "\n",
    "### Beating 50.76% Accuracy , accross all classes \n",
    "#### Mini Models : 101 classes of data with 10% input \n"
   ]
  },
  {
   "cell_type": "code",
   "execution_count": 2,
   "metadata": {},
   "outputs": [
    {
     "name": "stderr",
     "output_type": "stream",
     "text": [
      "2025-03-06 21:39:28.461340: E external/local_xla/xla/stream_executor/cuda/cuda_fft.cc:477] Unable to register cuFFT factory: Attempting to register factory for plugin cuFFT when one has already been registered\n",
      "WARNING: All log messages before absl::InitializeLog() is called are written to STDERR\n",
      "E0000 00:00:1741293568.512743    8245 cuda_dnn.cc:8310] Unable to register cuDNN factory: Attempting to register factory for plugin cuDNN when one has already been registered\n",
      "E0000 00:00:1741293568.527502    8245 cuda_blas.cc:1418] Unable to register cuBLAS factory: Attempting to register factory for plugin cuBLAS when one has already been registered\n",
      "2025-03-06 21:39:28.638260: I tensorflow/core/platform/cpu_feature_guard.cc:210] This TensorFlow binary is optimized to use available CPU instructions in performance-critical operations.\n",
      "To enable the following instructions: AVX2 FMA, in other operations, rebuild TensorFlow with the appropriate compiler flags.\n"
     ]
    },
    {
     "name": "stdout",
     "output_type": "stream",
     "text": [
      "CUDA Support: True\n",
      "GPU Available: [PhysicalDevice(name='/physical_device:GPU:0', device_type='GPU')]\n"
     ]
    }
   ],
   "source": [
    "import tensorflow as tf\n",
    "import keras\n",
    "from tensorflow.keras import mixed_precision\n",
    "mixed_precision.set_global_policy('mixed_float16')\n",
    "print(\"CUDA Support:\", tf.test.is_built_with_cuda())\n",
    "print(\"GPU Available:\", tf.config.list_physical_devices('GPU'))\n"
   ]
  },
  {
   "cell_type": "markdown",
   "metadata": {},
   "source": [
    "##### Import Helper Functions "
   ]
  },
  {
   "cell_type": "code",
   "execution_count": 3,
   "metadata": {},
   "outputs": [],
   "source": [
    "from helper import *"
   ]
  },
  {
   "cell_type": "code",
   "execution_count": 4,
   "metadata": {},
   "outputs": [],
   "source": [
    "# 101 Classes of data \n",
    "train_dir = \"101_food_classes_10_percent/101_food_classes_10_percent/train\"\n",
    "test_dir = \"101_food_classes_10_percent/101_food_classes_10_percent/test\""
   ]
  },
  {
   "cell_type": "code",
   "execution_count": 5,
   "metadata": {},
   "outputs": [
    {
     "name": "stdout",
     "output_type": "stream",
     "text": [
      "There are 2 directories and 0 images in '/home/akhil/Documents/Tf_Local/101_food_classes_10_percent'.\n",
      "There are 1 directories and 1 images in '/home/akhil/Documents/Tf_Local/101_food_classes_10_percent/__MACOSX'.\n",
      "There are 1 directories and 2 images in '/home/akhil/Documents/Tf_Local/101_food_classes_10_percent/__MACOSX/101_food_classes_10_percent'.\n",
      "There are 0 directories and 34 images in '/home/akhil/Documents/Tf_Local/101_food_classes_10_percent/__MACOSX/101_food_classes_10_percent/test'.\n",
      "There are 2 directories and 0 images in '/home/akhil/Documents/Tf_Local/101_food_classes_10_percent/101_food_classes_10_percent'.\n",
      "There are 101 directories and 0 images in '/home/akhil/Documents/Tf_Local/101_food_classes_10_percent/101_food_classes_10_percent/test'.\n",
      "There are 0 directories and 250 images in '/home/akhil/Documents/Tf_Local/101_food_classes_10_percent/101_food_classes_10_percent/test/ramen'.\n",
      "There are 0 directories and 250 images in '/home/akhil/Documents/Tf_Local/101_food_classes_10_percent/101_food_classes_10_percent/test/beet_salad'.\n",
      "There are 0 directories and 250 images in '/home/akhil/Documents/Tf_Local/101_food_classes_10_percent/101_food_classes_10_percent/test/fish_and_chips'.\n",
      "There are 0 directories and 250 images in '/home/akhil/Documents/Tf_Local/101_food_classes_10_percent/101_food_classes_10_percent/test/eggs_benedict'.\n",
      "There are 0 directories and 250 images in '/home/akhil/Documents/Tf_Local/101_food_classes_10_percent/101_food_classes_10_percent/test/gyoza'.\n",
      "There are 0 directories and 250 images in '/home/akhil/Documents/Tf_Local/101_food_classes_10_percent/101_food_classes_10_percent/test/huevos_rancheros'.\n",
      "There are 0 directories and 250 images in '/home/akhil/Documents/Tf_Local/101_food_classes_10_percent/101_food_classes_10_percent/test/hot_dog'.\n",
      "There are 0 directories and 250 images in '/home/akhil/Documents/Tf_Local/101_food_classes_10_percent/101_food_classes_10_percent/test/apple_pie'.\n",
      "There are 0 directories and 250 images in '/home/akhil/Documents/Tf_Local/101_food_classes_10_percent/101_food_classes_10_percent/test/pancakes'.\n",
      "There are 0 directories and 250 images in '/home/akhil/Documents/Tf_Local/101_food_classes_10_percent/101_food_classes_10_percent/test/pork_chop'.\n",
      "There are 0 directories and 250 images in '/home/akhil/Documents/Tf_Local/101_food_classes_10_percent/101_food_classes_10_percent/test/miso_soup'.\n",
      "There are 0 directories and 250 images in '/home/akhil/Documents/Tf_Local/101_food_classes_10_percent/101_food_classes_10_percent/test/pizza'.\n",
      "There are 0 directories and 250 images in '/home/akhil/Documents/Tf_Local/101_food_classes_10_percent/101_food_classes_10_percent/test/grilled_cheese_sandwich'.\n",
      "There are 0 directories and 250 images in '/home/akhil/Documents/Tf_Local/101_food_classes_10_percent/101_food_classes_10_percent/test/bibimbap'.\n",
      "There are 0 directories and 250 images in '/home/akhil/Documents/Tf_Local/101_food_classes_10_percent/101_food_classes_10_percent/test/chocolate_mousse'.\n",
      "There are 0 directories and 250 images in '/home/akhil/Documents/Tf_Local/101_food_classes_10_percent/101_food_classes_10_percent/test/beef_tartare'.\n",
      "There are 0 directories and 250 images in '/home/akhil/Documents/Tf_Local/101_food_classes_10_percent/101_food_classes_10_percent/test/french_toast'.\n",
      "There are 0 directories and 250 images in '/home/akhil/Documents/Tf_Local/101_food_classes_10_percent/101_food_classes_10_percent/test/baklava'.\n",
      "There are 0 directories and 250 images in '/home/akhil/Documents/Tf_Local/101_food_classes_10_percent/101_food_classes_10_percent/test/strawberry_shortcake'.\n",
      "There are 0 directories and 250 images in '/home/akhil/Documents/Tf_Local/101_food_classes_10_percent/101_food_classes_10_percent/test/french_onion_soup'.\n",
      "There are 0 directories and 250 images in '/home/akhil/Documents/Tf_Local/101_food_classes_10_percent/101_food_classes_10_percent/test/cup_cakes'.\n",
      "There are 0 directories and 250 images in '/home/akhil/Documents/Tf_Local/101_food_classes_10_percent/101_food_classes_10_percent/test/seaweed_salad'.\n",
      "There are 0 directories and 250 images in '/home/akhil/Documents/Tf_Local/101_food_classes_10_percent/101_food_classes_10_percent/test/waffles'.\n",
      "There are 0 directories and 250 images in '/home/akhil/Documents/Tf_Local/101_food_classes_10_percent/101_food_classes_10_percent/test/edamame'.\n",
      "There are 0 directories and 250 images in '/home/akhil/Documents/Tf_Local/101_food_classes_10_percent/101_food_classes_10_percent/test/cheese_plate'.\n",
      "There are 0 directories and 250 images in '/home/akhil/Documents/Tf_Local/101_food_classes_10_percent/101_food_classes_10_percent/test/foie_gras'.\n",
      "There are 0 directories and 250 images in '/home/akhil/Documents/Tf_Local/101_food_classes_10_percent/101_food_classes_10_percent/test/clam_chowder'.\n",
      "There are 0 directories and 250 images in '/home/akhil/Documents/Tf_Local/101_food_classes_10_percent/101_food_classes_10_percent/test/breakfast_burrito'.\n",
      "There are 0 directories and 250 images in '/home/akhil/Documents/Tf_Local/101_food_classes_10_percent/101_food_classes_10_percent/test/cannoli'.\n",
      "There are 0 directories and 250 images in '/home/akhil/Documents/Tf_Local/101_food_classes_10_percent/101_food_classes_10_percent/test/grilled_salmon'.\n",
      "There are 0 directories and 250 images in '/home/akhil/Documents/Tf_Local/101_food_classes_10_percent/101_food_classes_10_percent/test/oysters'.\n",
      "There are 0 directories and 250 images in '/home/akhil/Documents/Tf_Local/101_food_classes_10_percent/101_food_classes_10_percent/test/spring_rolls'.\n",
      "There are 0 directories and 250 images in '/home/akhil/Documents/Tf_Local/101_food_classes_10_percent/101_food_classes_10_percent/test/panna_cotta'.\n",
      "There are 0 directories and 250 images in '/home/akhil/Documents/Tf_Local/101_food_classes_10_percent/101_food_classes_10_percent/test/lobster_bisque'.\n",
      "There are 0 directories and 250 images in '/home/akhil/Documents/Tf_Local/101_food_classes_10_percent/101_food_classes_10_percent/test/croque_madame'.\n",
      "There are 0 directories and 250 images in '/home/akhil/Documents/Tf_Local/101_food_classes_10_percent/101_food_classes_10_percent/test/fried_calamari'.\n",
      "There are 0 directories and 250 images in '/home/akhil/Documents/Tf_Local/101_food_classes_10_percent/101_food_classes_10_percent/test/lobster_roll_sandwich'.\n",
      "There are 0 directories and 250 images in '/home/akhil/Documents/Tf_Local/101_food_classes_10_percent/101_food_classes_10_percent/test/greek_salad'.\n",
      "There are 0 directories and 250 images in '/home/akhil/Documents/Tf_Local/101_food_classes_10_percent/101_food_classes_10_percent/test/carrot_cake'.\n",
      "There are 0 directories and 250 images in '/home/akhil/Documents/Tf_Local/101_food_classes_10_percent/101_food_classes_10_percent/test/prime_rib'.\n",
      "There are 0 directories and 250 images in '/home/akhil/Documents/Tf_Local/101_food_classes_10_percent/101_food_classes_10_percent/test/caprese_salad'.\n",
      "There are 0 directories and 250 images in '/home/akhil/Documents/Tf_Local/101_food_classes_10_percent/101_food_classes_10_percent/test/lasagna'.\n",
      "There are 0 directories and 250 images in '/home/akhil/Documents/Tf_Local/101_food_classes_10_percent/101_food_classes_10_percent/test/dumplings'.\n",
      "There are 0 directories and 250 images in '/home/akhil/Documents/Tf_Local/101_food_classes_10_percent/101_food_classes_10_percent/test/gnocchi'.\n",
      "There are 0 directories and 250 images in '/home/akhil/Documents/Tf_Local/101_food_classes_10_percent/101_food_classes_10_percent/test/macaroni_and_cheese'.\n",
      "There are 0 directories and 250 images in '/home/akhil/Documents/Tf_Local/101_food_classes_10_percent/101_food_classes_10_percent/test/ravioli'.\n",
      "There are 0 directories and 250 images in '/home/akhil/Documents/Tf_Local/101_food_classes_10_percent/101_food_classes_10_percent/test/hamburger'.\n",
      "There are 0 directories and 250 images in '/home/akhil/Documents/Tf_Local/101_food_classes_10_percent/101_food_classes_10_percent/test/peking_duck'.\n",
      "There are 0 directories and 250 images in '/home/akhil/Documents/Tf_Local/101_food_classes_10_percent/101_food_classes_10_percent/test/deviled_eggs'.\n",
      "There are 0 directories and 250 images in '/home/akhil/Documents/Tf_Local/101_food_classes_10_percent/101_food_classes_10_percent/test/shrimp_and_grits'.\n",
      "There are 0 directories and 250 images in '/home/akhil/Documents/Tf_Local/101_food_classes_10_percent/101_food_classes_10_percent/test/garlic_bread'.\n",
      "There are 0 directories and 250 images in '/home/akhil/Documents/Tf_Local/101_food_classes_10_percent/101_food_classes_10_percent/test/spaghetti_carbonara'.\n",
      "There are 0 directories and 250 images in '/home/akhil/Documents/Tf_Local/101_food_classes_10_percent/101_food_classes_10_percent/test/hot_and_sour_soup'.\n",
      "There are 0 directories and 250 images in '/home/akhil/Documents/Tf_Local/101_food_classes_10_percent/101_food_classes_10_percent/test/poutine'.\n",
      "There are 0 directories and 250 images in '/home/akhil/Documents/Tf_Local/101_food_classes_10_percent/101_food_classes_10_percent/test/crab_cakes'.\n",
      "There are 0 directories and 250 images in '/home/akhil/Documents/Tf_Local/101_food_classes_10_percent/101_food_classes_10_percent/test/red_velvet_cake'.\n",
      "There are 0 directories and 250 images in '/home/akhil/Documents/Tf_Local/101_food_classes_10_percent/101_food_classes_10_percent/test/chocolate_cake'.\n",
      "There are 0 directories and 250 images in '/home/akhil/Documents/Tf_Local/101_food_classes_10_percent/101_food_classes_10_percent/test/beignets'.\n",
      "There are 0 directories and 250 images in '/home/akhil/Documents/Tf_Local/101_food_classes_10_percent/101_food_classes_10_percent/test/mussels'.\n",
      "There are 0 directories and 250 images in '/home/akhil/Documents/Tf_Local/101_food_classes_10_percent/101_food_classes_10_percent/test/french_fries'.\n",
      "There are 0 directories and 250 images in '/home/akhil/Documents/Tf_Local/101_food_classes_10_percent/101_food_classes_10_percent/test/tuna_tartare'.\n",
      "There are 0 directories and 250 images in '/home/akhil/Documents/Tf_Local/101_food_classes_10_percent/101_food_classes_10_percent/test/sushi'.\n",
      "There are 0 directories and 250 images in '/home/akhil/Documents/Tf_Local/101_food_classes_10_percent/101_food_classes_10_percent/test/chicken_curry'.\n",
      "There are 0 directories and 250 images in '/home/akhil/Documents/Tf_Local/101_food_classes_10_percent/101_food_classes_10_percent/test/steak'.\n",
      "There are 0 directories and 250 images in '/home/akhil/Documents/Tf_Local/101_food_classes_10_percent/101_food_classes_10_percent/test/donuts'.\n",
      "There are 0 directories and 250 images in '/home/akhil/Documents/Tf_Local/101_food_classes_10_percent/101_food_classes_10_percent/test/macarons'.\n",
      "There are 0 directories and 250 images in '/home/akhil/Documents/Tf_Local/101_food_classes_10_percent/101_food_classes_10_percent/test/pad_thai'.\n",
      "There are 0 directories and 250 images in '/home/akhil/Documents/Tf_Local/101_food_classes_10_percent/101_food_classes_10_percent/test/nachos'.\n",
      "There are 0 directories and 250 images in '/home/akhil/Documents/Tf_Local/101_food_classes_10_percent/101_food_classes_10_percent/test/tiramisu'.\n",
      "There are 0 directories and 250 images in '/home/akhil/Documents/Tf_Local/101_food_classes_10_percent/101_food_classes_10_percent/test/beef_carpaccio'.\n",
      "There are 0 directories and 250 images in '/home/akhil/Documents/Tf_Local/101_food_classes_10_percent/101_food_classes_10_percent/test/filet_mignon'.\n",
      "There are 0 directories and 250 images in '/home/akhil/Documents/Tf_Local/101_food_classes_10_percent/101_food_classes_10_percent/test/guacamole'.\n",
      "There are 0 directories and 250 images in '/home/akhil/Documents/Tf_Local/101_food_classes_10_percent/101_food_classes_10_percent/test/scallops'.\n",
      "There are 0 directories and 250 images in '/home/akhil/Documents/Tf_Local/101_food_classes_10_percent/101_food_classes_10_percent/test/samosa'.\n",
      "There are 0 directories and 250 images in '/home/akhil/Documents/Tf_Local/101_food_classes_10_percent/101_food_classes_10_percent/test/frozen_yogurt'.\n",
      "There are 0 directories and 250 images in '/home/akhil/Documents/Tf_Local/101_food_classes_10_percent/101_food_classes_10_percent/test/bruschetta'.\n",
      "There are 0 directories and 250 images in '/home/akhil/Documents/Tf_Local/101_food_classes_10_percent/101_food_classes_10_percent/test/churros'.\n",
      "There are 0 directories and 250 images in '/home/akhil/Documents/Tf_Local/101_food_classes_10_percent/101_food_classes_10_percent/test/risotto'.\n",
      "There are 0 directories and 250 images in '/home/akhil/Documents/Tf_Local/101_food_classes_10_percent/101_food_classes_10_percent/test/chicken_wings'.\n",
      "There are 0 directories and 250 images in '/home/akhil/Documents/Tf_Local/101_food_classes_10_percent/101_food_classes_10_percent/test/creme_brulee'.\n",
      "There are 0 directories and 250 images in '/home/akhil/Documents/Tf_Local/101_food_classes_10_percent/101_food_classes_10_percent/test/ceviche'.\n",
      "There are 0 directories and 250 images in '/home/akhil/Documents/Tf_Local/101_food_classes_10_percent/101_food_classes_10_percent/test/ice_cream'.\n",
      "There are 0 directories and 250 images in '/home/akhil/Documents/Tf_Local/101_food_classes_10_percent/101_food_classes_10_percent/test/fried_rice'.\n",
      "There are 0 directories and 250 images in '/home/akhil/Documents/Tf_Local/101_food_classes_10_percent/101_food_classes_10_percent/test/onion_rings'.\n",
      "There are 0 directories and 250 images in '/home/akhil/Documents/Tf_Local/101_food_classes_10_percent/101_food_classes_10_percent/test/pho'.\n",
      "There are 0 directories and 250 images in '/home/akhil/Documents/Tf_Local/101_food_classes_10_percent/101_food_classes_10_percent/test/tacos'.\n",
      "There are 0 directories and 250 images in '/home/akhil/Documents/Tf_Local/101_food_classes_10_percent/101_food_classes_10_percent/test/chicken_quesadilla'.\n",
      "There are 0 directories and 250 images in '/home/akhil/Documents/Tf_Local/101_food_classes_10_percent/101_food_classes_10_percent/test/cheesecake'.\n",
      "There are 0 directories and 250 images in '/home/akhil/Documents/Tf_Local/101_food_classes_10_percent/101_food_classes_10_percent/test/pulled_pork_sandwich'.\n",
      "There are 0 directories and 250 images in '/home/akhil/Documents/Tf_Local/101_food_classes_10_percent/101_food_classes_10_percent/test/club_sandwich'.\n",
      "There are 0 directories and 250 images in '/home/akhil/Documents/Tf_Local/101_food_classes_10_percent/101_food_classes_10_percent/test/baby_back_ribs'.\n",
      "There are 0 directories and 250 images in '/home/akhil/Documents/Tf_Local/101_food_classes_10_percent/101_food_classes_10_percent/test/spaghetti_bolognese'.\n",
      "There are 0 directories and 250 images in '/home/akhil/Documents/Tf_Local/101_food_classes_10_percent/101_food_classes_10_percent/test/bread_pudding'.\n",
      "There are 0 directories and 250 images in '/home/akhil/Documents/Tf_Local/101_food_classes_10_percent/101_food_classes_10_percent/test/omelette'.\n",
      "There are 0 directories and 250 images in '/home/akhil/Documents/Tf_Local/101_food_classes_10_percent/101_food_classes_10_percent/test/takoyaki'.\n",
      "There are 0 directories and 250 images in '/home/akhil/Documents/Tf_Local/101_food_classes_10_percent/101_food_classes_10_percent/test/paella'.\n",
      "There are 0 directories and 250 images in '/home/akhil/Documents/Tf_Local/101_food_classes_10_percent/101_food_classes_10_percent/test/escargots'.\n",
      "There are 0 directories and 250 images in '/home/akhil/Documents/Tf_Local/101_food_classes_10_percent/101_food_classes_10_percent/test/hummus'.\n",
      "There are 0 directories and 250 images in '/home/akhil/Documents/Tf_Local/101_food_classes_10_percent/101_food_classes_10_percent/test/falafel'.\n",
      "There are 0 directories and 250 images in '/home/akhil/Documents/Tf_Local/101_food_classes_10_percent/101_food_classes_10_percent/test/caesar_salad'.\n",
      "There are 0 directories and 250 images in '/home/akhil/Documents/Tf_Local/101_food_classes_10_percent/101_food_classes_10_percent/test/sashimi'.\n",
      "There are 101 directories and 0 images in '/home/akhil/Documents/Tf_Local/101_food_classes_10_percent/101_food_classes_10_percent/train'.\n",
      "There are 0 directories and 75 images in '/home/akhil/Documents/Tf_Local/101_food_classes_10_percent/101_food_classes_10_percent/train/ramen'.\n",
      "There are 0 directories and 75 images in '/home/akhil/Documents/Tf_Local/101_food_classes_10_percent/101_food_classes_10_percent/train/beet_salad'.\n",
      "There are 0 directories and 75 images in '/home/akhil/Documents/Tf_Local/101_food_classes_10_percent/101_food_classes_10_percent/train/fish_and_chips'.\n",
      "There are 0 directories and 75 images in '/home/akhil/Documents/Tf_Local/101_food_classes_10_percent/101_food_classes_10_percent/train/eggs_benedict'.\n",
      "There are 0 directories and 75 images in '/home/akhil/Documents/Tf_Local/101_food_classes_10_percent/101_food_classes_10_percent/train/gyoza'.\n",
      "There are 0 directories and 75 images in '/home/akhil/Documents/Tf_Local/101_food_classes_10_percent/101_food_classes_10_percent/train/huevos_rancheros'.\n",
      "There are 0 directories and 75 images in '/home/akhil/Documents/Tf_Local/101_food_classes_10_percent/101_food_classes_10_percent/train/hot_dog'.\n",
      "There are 0 directories and 75 images in '/home/akhil/Documents/Tf_Local/101_food_classes_10_percent/101_food_classes_10_percent/train/apple_pie'.\n",
      "There are 0 directories and 75 images in '/home/akhil/Documents/Tf_Local/101_food_classes_10_percent/101_food_classes_10_percent/train/pancakes'.\n",
      "There are 0 directories and 75 images in '/home/akhil/Documents/Tf_Local/101_food_classes_10_percent/101_food_classes_10_percent/train/pork_chop'.\n",
      "There are 0 directories and 75 images in '/home/akhil/Documents/Tf_Local/101_food_classes_10_percent/101_food_classes_10_percent/train/miso_soup'.\n",
      "There are 0 directories and 75 images in '/home/akhil/Documents/Tf_Local/101_food_classes_10_percent/101_food_classes_10_percent/train/pizza'.\n",
      "There are 0 directories and 75 images in '/home/akhil/Documents/Tf_Local/101_food_classes_10_percent/101_food_classes_10_percent/train/grilled_cheese_sandwich'.\n",
      "There are 0 directories and 75 images in '/home/akhil/Documents/Tf_Local/101_food_classes_10_percent/101_food_classes_10_percent/train/bibimbap'.\n",
      "There are 0 directories and 75 images in '/home/akhil/Documents/Tf_Local/101_food_classes_10_percent/101_food_classes_10_percent/train/chocolate_mousse'.\n",
      "There are 0 directories and 75 images in '/home/akhil/Documents/Tf_Local/101_food_classes_10_percent/101_food_classes_10_percent/train/beef_tartare'.\n",
      "There are 0 directories and 75 images in '/home/akhil/Documents/Tf_Local/101_food_classes_10_percent/101_food_classes_10_percent/train/french_toast'.\n",
      "There are 0 directories and 75 images in '/home/akhil/Documents/Tf_Local/101_food_classes_10_percent/101_food_classes_10_percent/train/baklava'.\n",
      "There are 0 directories and 75 images in '/home/akhil/Documents/Tf_Local/101_food_classes_10_percent/101_food_classes_10_percent/train/strawberry_shortcake'.\n",
      "There are 0 directories and 75 images in '/home/akhil/Documents/Tf_Local/101_food_classes_10_percent/101_food_classes_10_percent/train/french_onion_soup'.\n",
      "There are 0 directories and 75 images in '/home/akhil/Documents/Tf_Local/101_food_classes_10_percent/101_food_classes_10_percent/train/cup_cakes'.\n",
      "There are 0 directories and 75 images in '/home/akhil/Documents/Tf_Local/101_food_classes_10_percent/101_food_classes_10_percent/train/seaweed_salad'.\n",
      "There are 0 directories and 75 images in '/home/akhil/Documents/Tf_Local/101_food_classes_10_percent/101_food_classes_10_percent/train/waffles'.\n",
      "There are 0 directories and 75 images in '/home/akhil/Documents/Tf_Local/101_food_classes_10_percent/101_food_classes_10_percent/train/edamame'.\n",
      "There are 0 directories and 75 images in '/home/akhil/Documents/Tf_Local/101_food_classes_10_percent/101_food_classes_10_percent/train/cheese_plate'.\n",
      "There are 0 directories and 75 images in '/home/akhil/Documents/Tf_Local/101_food_classes_10_percent/101_food_classes_10_percent/train/foie_gras'.\n",
      "There are 0 directories and 75 images in '/home/akhil/Documents/Tf_Local/101_food_classes_10_percent/101_food_classes_10_percent/train/clam_chowder'.\n",
      "There are 0 directories and 75 images in '/home/akhil/Documents/Tf_Local/101_food_classes_10_percent/101_food_classes_10_percent/train/breakfast_burrito'.\n",
      "There are 0 directories and 75 images in '/home/akhil/Documents/Tf_Local/101_food_classes_10_percent/101_food_classes_10_percent/train/cannoli'.\n",
      "There are 0 directories and 75 images in '/home/akhil/Documents/Tf_Local/101_food_classes_10_percent/101_food_classes_10_percent/train/grilled_salmon'.\n",
      "There are 0 directories and 75 images in '/home/akhil/Documents/Tf_Local/101_food_classes_10_percent/101_food_classes_10_percent/train/oysters'.\n",
      "There are 0 directories and 75 images in '/home/akhil/Documents/Tf_Local/101_food_classes_10_percent/101_food_classes_10_percent/train/spring_rolls'.\n",
      "There are 0 directories and 75 images in '/home/akhil/Documents/Tf_Local/101_food_classes_10_percent/101_food_classes_10_percent/train/panna_cotta'.\n",
      "There are 0 directories and 75 images in '/home/akhil/Documents/Tf_Local/101_food_classes_10_percent/101_food_classes_10_percent/train/lobster_bisque'.\n",
      "There are 0 directories and 75 images in '/home/akhil/Documents/Tf_Local/101_food_classes_10_percent/101_food_classes_10_percent/train/croque_madame'.\n",
      "There are 0 directories and 75 images in '/home/akhil/Documents/Tf_Local/101_food_classes_10_percent/101_food_classes_10_percent/train/fried_calamari'.\n",
      "There are 0 directories and 75 images in '/home/akhil/Documents/Tf_Local/101_food_classes_10_percent/101_food_classes_10_percent/train/lobster_roll_sandwich'.\n",
      "There are 0 directories and 75 images in '/home/akhil/Documents/Tf_Local/101_food_classes_10_percent/101_food_classes_10_percent/train/greek_salad'.\n",
      "There are 0 directories and 75 images in '/home/akhil/Documents/Tf_Local/101_food_classes_10_percent/101_food_classes_10_percent/train/carrot_cake'.\n",
      "There are 0 directories and 75 images in '/home/akhil/Documents/Tf_Local/101_food_classes_10_percent/101_food_classes_10_percent/train/prime_rib'.\n",
      "There are 0 directories and 75 images in '/home/akhil/Documents/Tf_Local/101_food_classes_10_percent/101_food_classes_10_percent/train/caprese_salad'.\n",
      "There are 0 directories and 75 images in '/home/akhil/Documents/Tf_Local/101_food_classes_10_percent/101_food_classes_10_percent/train/lasagna'.\n",
      "There are 0 directories and 75 images in '/home/akhil/Documents/Tf_Local/101_food_classes_10_percent/101_food_classes_10_percent/train/dumplings'.\n",
      "There are 0 directories and 75 images in '/home/akhil/Documents/Tf_Local/101_food_classes_10_percent/101_food_classes_10_percent/train/gnocchi'.\n",
      "There are 0 directories and 75 images in '/home/akhil/Documents/Tf_Local/101_food_classes_10_percent/101_food_classes_10_percent/train/macaroni_and_cheese'.\n",
      "There are 0 directories and 75 images in '/home/akhil/Documents/Tf_Local/101_food_classes_10_percent/101_food_classes_10_percent/train/ravioli'.\n",
      "There are 0 directories and 75 images in '/home/akhil/Documents/Tf_Local/101_food_classes_10_percent/101_food_classes_10_percent/train/hamburger'.\n",
      "There are 0 directories and 75 images in '/home/akhil/Documents/Tf_Local/101_food_classes_10_percent/101_food_classes_10_percent/train/peking_duck'.\n",
      "There are 0 directories and 75 images in '/home/akhil/Documents/Tf_Local/101_food_classes_10_percent/101_food_classes_10_percent/train/deviled_eggs'.\n",
      "There are 0 directories and 75 images in '/home/akhil/Documents/Tf_Local/101_food_classes_10_percent/101_food_classes_10_percent/train/shrimp_and_grits'.\n",
      "There are 0 directories and 75 images in '/home/akhil/Documents/Tf_Local/101_food_classes_10_percent/101_food_classes_10_percent/train/garlic_bread'.\n",
      "There are 0 directories and 75 images in '/home/akhil/Documents/Tf_Local/101_food_classes_10_percent/101_food_classes_10_percent/train/spaghetti_carbonara'.\n",
      "There are 0 directories and 75 images in '/home/akhil/Documents/Tf_Local/101_food_classes_10_percent/101_food_classes_10_percent/train/hot_and_sour_soup'.\n",
      "There are 0 directories and 75 images in '/home/akhil/Documents/Tf_Local/101_food_classes_10_percent/101_food_classes_10_percent/train/poutine'.\n",
      "There are 0 directories and 75 images in '/home/akhil/Documents/Tf_Local/101_food_classes_10_percent/101_food_classes_10_percent/train/crab_cakes'.\n",
      "There are 0 directories and 75 images in '/home/akhil/Documents/Tf_Local/101_food_classes_10_percent/101_food_classes_10_percent/train/red_velvet_cake'.\n",
      "There are 0 directories and 75 images in '/home/akhil/Documents/Tf_Local/101_food_classes_10_percent/101_food_classes_10_percent/train/chocolate_cake'.\n",
      "There are 0 directories and 75 images in '/home/akhil/Documents/Tf_Local/101_food_classes_10_percent/101_food_classes_10_percent/train/beignets'.\n",
      "There are 0 directories and 75 images in '/home/akhil/Documents/Tf_Local/101_food_classes_10_percent/101_food_classes_10_percent/train/mussels'.\n",
      "There are 0 directories and 75 images in '/home/akhil/Documents/Tf_Local/101_food_classes_10_percent/101_food_classes_10_percent/train/french_fries'.\n",
      "There are 0 directories and 75 images in '/home/akhil/Documents/Tf_Local/101_food_classes_10_percent/101_food_classes_10_percent/train/tuna_tartare'.\n",
      "There are 0 directories and 75 images in '/home/akhil/Documents/Tf_Local/101_food_classes_10_percent/101_food_classes_10_percent/train/sushi'.\n",
      "There are 0 directories and 75 images in '/home/akhil/Documents/Tf_Local/101_food_classes_10_percent/101_food_classes_10_percent/train/chicken_curry'.\n",
      "There are 0 directories and 75 images in '/home/akhil/Documents/Tf_Local/101_food_classes_10_percent/101_food_classes_10_percent/train/steak'.\n",
      "There are 0 directories and 75 images in '/home/akhil/Documents/Tf_Local/101_food_classes_10_percent/101_food_classes_10_percent/train/donuts'.\n",
      "There are 0 directories and 75 images in '/home/akhil/Documents/Tf_Local/101_food_classes_10_percent/101_food_classes_10_percent/train/macarons'.\n",
      "There are 0 directories and 75 images in '/home/akhil/Documents/Tf_Local/101_food_classes_10_percent/101_food_classes_10_percent/train/pad_thai'.\n",
      "There are 0 directories and 75 images in '/home/akhil/Documents/Tf_Local/101_food_classes_10_percent/101_food_classes_10_percent/train/nachos'.\n",
      "There are 0 directories and 75 images in '/home/akhil/Documents/Tf_Local/101_food_classes_10_percent/101_food_classes_10_percent/train/tiramisu'.\n",
      "There are 0 directories and 75 images in '/home/akhil/Documents/Tf_Local/101_food_classes_10_percent/101_food_classes_10_percent/train/beef_carpaccio'.\n",
      "There are 0 directories and 75 images in '/home/akhil/Documents/Tf_Local/101_food_classes_10_percent/101_food_classes_10_percent/train/filet_mignon'.\n",
      "There are 0 directories and 75 images in '/home/akhil/Documents/Tf_Local/101_food_classes_10_percent/101_food_classes_10_percent/train/guacamole'.\n",
      "There are 0 directories and 75 images in '/home/akhil/Documents/Tf_Local/101_food_classes_10_percent/101_food_classes_10_percent/train/scallops'.\n",
      "There are 0 directories and 75 images in '/home/akhil/Documents/Tf_Local/101_food_classes_10_percent/101_food_classes_10_percent/train/samosa'.\n",
      "There are 0 directories and 75 images in '/home/akhil/Documents/Tf_Local/101_food_classes_10_percent/101_food_classes_10_percent/train/frozen_yogurt'.\n",
      "There are 0 directories and 75 images in '/home/akhil/Documents/Tf_Local/101_food_classes_10_percent/101_food_classes_10_percent/train/bruschetta'.\n",
      "There are 0 directories and 75 images in '/home/akhil/Documents/Tf_Local/101_food_classes_10_percent/101_food_classes_10_percent/train/churros'.\n",
      "There are 0 directories and 75 images in '/home/akhil/Documents/Tf_Local/101_food_classes_10_percent/101_food_classes_10_percent/train/risotto'.\n",
      "There are 0 directories and 75 images in '/home/akhil/Documents/Tf_Local/101_food_classes_10_percent/101_food_classes_10_percent/train/chicken_wings'.\n",
      "There are 0 directories and 75 images in '/home/akhil/Documents/Tf_Local/101_food_classes_10_percent/101_food_classes_10_percent/train/creme_brulee'.\n",
      "There are 0 directories and 75 images in '/home/akhil/Documents/Tf_Local/101_food_classes_10_percent/101_food_classes_10_percent/train/ceviche'.\n",
      "There are 0 directories and 75 images in '/home/akhil/Documents/Tf_Local/101_food_classes_10_percent/101_food_classes_10_percent/train/ice_cream'.\n",
      "There are 0 directories and 75 images in '/home/akhil/Documents/Tf_Local/101_food_classes_10_percent/101_food_classes_10_percent/train/fried_rice'.\n",
      "There are 0 directories and 75 images in '/home/akhil/Documents/Tf_Local/101_food_classes_10_percent/101_food_classes_10_percent/train/onion_rings'.\n",
      "There are 0 directories and 75 images in '/home/akhil/Documents/Tf_Local/101_food_classes_10_percent/101_food_classes_10_percent/train/pho'.\n",
      "There are 0 directories and 75 images in '/home/akhil/Documents/Tf_Local/101_food_classes_10_percent/101_food_classes_10_percent/train/tacos'.\n",
      "There are 0 directories and 75 images in '/home/akhil/Documents/Tf_Local/101_food_classes_10_percent/101_food_classes_10_percent/train/chicken_quesadilla'.\n",
      "There are 0 directories and 75 images in '/home/akhil/Documents/Tf_Local/101_food_classes_10_percent/101_food_classes_10_percent/train/cheesecake'.\n",
      "There are 0 directories and 75 images in '/home/akhil/Documents/Tf_Local/101_food_classes_10_percent/101_food_classes_10_percent/train/pulled_pork_sandwich'.\n",
      "There are 0 directories and 75 images in '/home/akhil/Documents/Tf_Local/101_food_classes_10_percent/101_food_classes_10_percent/train/club_sandwich'.\n",
      "There are 0 directories and 75 images in '/home/akhil/Documents/Tf_Local/101_food_classes_10_percent/101_food_classes_10_percent/train/baby_back_ribs'.\n",
      "There are 0 directories and 75 images in '/home/akhil/Documents/Tf_Local/101_food_classes_10_percent/101_food_classes_10_percent/train/spaghetti_bolognese'.\n",
      "There are 0 directories and 75 images in '/home/akhil/Documents/Tf_Local/101_food_classes_10_percent/101_food_classes_10_percent/train/bread_pudding'.\n",
      "There are 0 directories and 75 images in '/home/akhil/Documents/Tf_Local/101_food_classes_10_percent/101_food_classes_10_percent/train/omelette'.\n",
      "There are 0 directories and 75 images in '/home/akhil/Documents/Tf_Local/101_food_classes_10_percent/101_food_classes_10_percent/train/takoyaki'.\n",
      "There are 0 directories and 75 images in '/home/akhil/Documents/Tf_Local/101_food_classes_10_percent/101_food_classes_10_percent/train/paella'.\n",
      "There are 0 directories and 75 images in '/home/akhil/Documents/Tf_Local/101_food_classes_10_percent/101_food_classes_10_percent/train/escargots'.\n",
      "There are 0 directories and 75 images in '/home/akhil/Documents/Tf_Local/101_food_classes_10_percent/101_food_classes_10_percent/train/hummus'.\n",
      "There are 0 directories and 75 images in '/home/akhil/Documents/Tf_Local/101_food_classes_10_percent/101_food_classes_10_percent/train/falafel'.\n",
      "There are 0 directories and 75 images in '/home/akhil/Documents/Tf_Local/101_food_classes_10_percent/101_food_classes_10_percent/train/caesar_salad'.\n",
      "There are 0 directories and 75 images in '/home/akhil/Documents/Tf_Local/101_food_classes_10_percent/101_food_classes_10_percent/train/sashimi'.\n"
     ]
    }
   ],
   "source": [
    "walk_through_dir(\"/home/akhil/Documents/Tf_Local/101_food_classes_10_percent\")"
   ]
  },
  {
   "cell_type": "code",
   "execution_count": 6,
   "metadata": {},
   "outputs": [
    {
     "name": "stdout",
     "output_type": "stream",
     "text": [
      "Found 7575 files belonging to 101 classes.\n"
     ]
    },
    {
     "name": "stderr",
     "output_type": "stream",
     "text": [
      "I0000 00:00:1741293572.878869    8245 gpu_device.cc:2022] Created device /job:localhost/replica:0/task:0/device:GPU:0 with 5201 MB memory:  -> device: 0, name: NVIDIA GeForce RTX 3070 Laptop GPU, pci bus id: 0000:01:00.0, compute capability: 8.6\n"
     ]
    },
    {
     "name": "stdout",
     "output_type": "stream",
     "text": [
      "Found 25250 files belonging to 101 classes.\n"
     ]
    }
   ],
   "source": [
    "# Set up data input\n",
    "\n",
    "import tensorflow as tf\n",
    "import tf_keras\n",
    "IMG_SIZE = (224 ,224)\n",
    "train_data_all_10_percent = tf_keras.preprocessing.image_dataset_from_directory(train_dir ,\n",
    "                                                                                label_mode = \"categorical\",\n",
    "                                                                                image_size = IMG_SIZE)\n",
    "test_data = tf_keras.preprocessing.image_dataset_from_directory(test_dir,\n",
    "                                                                label_mode = \"categorical\",\n",
    "                                                                image_size = IMG_SIZE,\n",
    "                                                                shuffle = False ) # Dont Shuffle the  test daata for prediction analysis \n",
    "\n"
   ]
  },
  {
   "cell_type": "markdown",
   "metadata": {},
   "source": [
    "- Model Checkpoit \n",
    "- Data augmentation layer \n",
    "- Build headless fnctional efficientB0 model \n",
    "- Compile \n",
    "- Feeature Extract for 5 full passes on training data\n",
    "- Validate on 15 % of Test data \n",
    "\n"
   ]
  },
  {
   "cell_type": "code",
   "execution_count": 7,
   "metadata": {},
   "outputs": [],
   "source": [
    "# Training teh transfer learning model with 10 percent of the data \n",
    "\n",
    "# Create Checkpoint Callback \n",
    "checkpoint_path = \"101_classes_10_percent_data_model_checkpoint\"\n",
    "checkpoint_callback = tf_keras.callbacks.ModelCheckpoint(checkpoint_path,\n",
    "                                                         save_weights_only= True,\n",
    "                                                         monitor= \"accuracy\",\n",
    "                                                         save_best_only=True)"
   ]
  },
  {
   "cell_type": "markdown",
   "metadata": {},
   "source": [
    "## Pushing Data Augmentaion on GPU 💷"
   ]
  },
  {
   "cell_type": "code",
   "execution_count": 8,
   "metadata": {},
   "outputs": [],
   "source": [
    "# Data Augmentation Layer\n",
    "\n",
    "from tf_keras import layers\n",
    "from tf_keras.layers.experimental import preprocessing \n",
    "from tf_keras.models import Sequential\n",
    "\n",
    "data_augmentation = Sequential([\n",
    "    preprocessing.RandomFlip(\"horizontal\"),\n",
    "    preprocessing.RandomRotation(0.2),\n",
    "    preprocessing.RandomHeight(0.2),\n",
    "    preprocessing.RandomWidth(0.2),\n",
    "    preprocessing.RandomZoom(0.2)  #Rescaling is not required in this case , but required in the resnet models\n",
    "     \n",
    "], name = \"data_augmentation\")\n"
   ]
  },
  {
   "cell_type": "code",
   "execution_count": 9,
   "metadata": {},
   "outputs": [
    {
     "name": "stdout",
     "output_type": "stream",
     "text": [
      "Epoch 1/5\n"
     ]
    },
    {
     "name": "stderr",
     "output_type": "stream",
     "text": [
      "I0000 00:00:1741293586.005561    8752 cuda_dnn.cc:529] Loaded cuDNN version 90300\n"
     ]
    },
    {
     "name": "stdout",
     "output_type": "stream",
     "text": [
      "  1/237 [..............................] - ETA: 29:27 - loss: 4.7590 - accuracy: 0.0312"
     ]
    },
    {
     "name": "stderr",
     "output_type": "stream",
     "text": [
      "WARNING: All log messages before absl::InitializeLog() is called are written to STDERR\n",
      "I0000 00:00:1741293586.504934    8754 service.cc:148] XLA service 0x7473641150f0 initialized for platform CUDA (this does not guarantee that XLA will be used). Devices:\n",
      "I0000 00:00:1741293586.505017    8754 service.cc:156]   StreamExecutor device (0): NVIDIA GeForce RTX 3070 Laptop GPU, Compute Capability 8.6\n",
      "2025-03-06 21:39:46.512366: I tensorflow/compiler/mlir/tensorflow/utils/dump_mlir_util.cc:268] disabling MLIR crash reproducer, set env var `MLIR_CRASH_REPRODUCER_DIRECTORY` to enable.\n",
      "I0000 00:00:1741293586.601762    8754 device_compiler.h:188] Compiled cluster using XLA!  This line is logged at most once for the lifetime of the process.\n"
     ]
    },
    {
     "name": "stdout",
     "output_type": "stream",
     "text": [
      "237/237 [==============================] - 46s 165ms/step - loss: 3.3650 - accuracy: 0.2779 - val_loss: 2.5369 - val_accuracy: 0.4497\n",
      "Epoch 2/5\n",
      "237/237 [==============================] - 38s 158ms/step - loss: 2.1963 - accuracy: 0.5003 - val_loss: 2.0765 - val_accuracy: 0.5003\n",
      "Epoch 3/5\n",
      "237/237 [==============================] - 37s 154ms/step - loss: 1.8202 - accuracy: 0.5650 - val_loss: 1.9191 - val_accuracy: 0.5193\n",
      "Epoch 4/5\n",
      "237/237 [==============================] - 37s 155ms/step - loss: 1.6103 - accuracy: 0.6069 - val_loss: 1.8559 - val_accuracy: 0.5140\n",
      "Epoch 5/5\n",
      "237/237 [==============================] - 35s 150ms/step - loss: 1.4548 - accuracy: 0.6417 - val_loss: 1.8317 - val_accuracy: 0.5167\n"
     ]
    }
   ],
   "source": [
    "# Headless model , with Functional API \n",
    "# Baase Model , freeaze some layers\n",
    "\n",
    "base_model = tf_keras.applications.EfficientNetB0(include_top=False)\n",
    "base_model.trainable = False\n",
    "\n",
    "# Model Architechure with trinable top layers\n",
    "\n",
    "inputs = layers.Input(shape = (224,224,3), name = \"input_layer\")\n",
    "x = data_augmentation(inputs)  # Computed on GPU during Training phase \n",
    "x = base_model(x, training = False) # Freezed Layers \n",
    "x = layers.GlobalAveragePooling2D()(x)\n",
    "outputs = layers.Dense(101, activation = \"softmax\")(x)\n",
    "model = tf_keras.Model(inputs, outputs)\n",
    "\n",
    "# Compile the model\n",
    "\n",
    "model.compile(loss = \"categorical_crossentropy\",\n",
    "              optimizer = tf_keras.optimizers.Adam(),\n",
    "              metrics = [\"accuracy\"])\n",
    "\n",
    "# Fit the model\n",
    "\n",
    "history_10_percent = model.fit(train_data_all_10_percent,\n",
    "                               epochs = 5,\n",
    "                               steps_per_epoch = len(train_data_all_10_percent),\n",
    "                               validation_data = test_data,\n",
    "                               validation_steps = int(0.15 * len(test_data)),\n",
    "                               callbacks = [checkpoint_callback])\n",
    "\n"
   ]
  },
  {
   "cell_type": "code",
   "execution_count": 10,
   "metadata": {},
   "outputs": [
    {
     "name": "stdout",
     "output_type": "stream",
     "text": [
      "Model: \"model\"\n",
      "_________________________________________________________________\n",
      " Layer (type)                Output Shape              Param #   \n",
      "=================================================================\n",
      " input_layer (InputLayer)    [(None, 224, 224, 3)]     0         \n",
      "                                                                 \n",
      " data_augmentation (Sequent  (None, None, None, 3)     0         \n",
      " ial)                                                            \n",
      "                                                                 \n",
      " efficientnetb0 (Functional  (None, None, None, 1280   4049571   \n",
      " )                           )                                   \n",
      "                                                                 \n",
      " global_average_pooling2d (  (None, 1280)              0         \n",
      " GlobalAveragePooling2D)                                         \n",
      "                                                                 \n",
      " dense (Dense)               (None, 101)               129381    \n",
      "                                                                 \n",
      "=================================================================\n",
      "Total params: 4178952 (15.94 MB)\n",
      "Trainable params: 129381 (505.39 KB)\n",
      "Non-trainable params: 4049571 (15.45 MB)\n",
      "_________________________________________________________________\n"
     ]
    }
   ],
   "source": [
    "model.summary()"
   ]
  },
  {
   "cell_type": "markdown",
   "metadata": {},
   "source": []
  },
  {
   "cell_type": "code",
   "execution_count": 11,
   "metadata": {},
   "outputs": [
    {
     "name": "stdout",
     "output_type": "stream",
     "text": [
      "790/790 [==============================] - 42s 53ms/step - loss: 1.5791 - accuracy: 0.5842\n"
     ]
    },
    {
     "data": {
      "text/plain": [
       "[1.5790555477142334, 0.5841584205627441]"
      ]
     },
     "execution_count": 11,
     "metadata": {},
     "output_type": "execute_result"
    }
   ],
   "source": [
    "fine_tune_results = model.evaluate(test_data)\n",
    "fine_tune_results"
   ]
  },
  {
   "cell_type": "code",
   "execution_count": 12,
   "metadata": {},
   "outputs": [
    {
     "data": {
      "image/png": "[encoded data removed]",
      "text/plain": [
       "<Figure size 640x480 with 1 Axes>"
      ]
     },
     "metadata": {},
     "output_type": "display_data"
    },
    {
     "data": {
      "image/png": "[encoded data removed]",
      "text/plain": [
       "<Figure size 640x480 with 1 Axes>"
      ]
     },
     "metadata": {},
     "output_type": "display_data"
    }
   ],
   "source": [
    "# Plotting loss curves \n",
    "\n",
    "plot_loss_curves(history_10_percent)"
   ]
  },
  {
   "cell_type": "code",
   "execution_count": 13,
   "metadata": {},
   "outputs": [],
   "source": [
    "# Curves separating in the end , means model is overfitting : performing too well on training data , and not genralizing on the unseen data "
   ]
  },
  {
   "cell_type": "markdown",
   "metadata": {},
   "source": [
    "## Fine Tuning \n",
    "\n",
    "---\n",
    "- When unfreezing a layer make the learning rate slow \n",
    "- Unfreeze all of the layers in the base_model \n",
    "- Unfreezing last 5 layers , \n",
    "- Last layers are responsible , for the larger features"
   ]
  },
  {
   "cell_type": "code",
   "execution_count": 14,
   "metadata": {},
   "outputs": [],
   "source": [
    "# Unfreeze all of the layers in the base_model \n",
    "base_model.trainable = True \n",
    "\n",
    "# Refreeze \n",
    "\n",
    "for layer in base_model.layers[:-5]: # Unfrozen last 5 layerss\n",
    "    layer.trainable = False"
   ]
  },
  {
   "cell_type": "code",
   "execution_count": 15,
   "metadata": {},
   "outputs": [],
   "source": [
    "# Recompile , model with lower learning rate\n",
    "model.compile(loss = \"categorical_crossentropy\",\n",
    "              optimizer = tf_keras.optimizers.Adam(learning_rate = 0.0001), # learning rate lowered by 10x\n",
    "              metrics = [\"accuracy\"])\n"
   ]
  },
  {
   "cell_type": "code",
   "execution_count": 16,
   "metadata": {},
   "outputs": [
    {
     "name": "stdout",
     "output_type": "stream",
     "text": [
      "input_layer True\n",
      "data_augmentation True\n",
      "efficientnetb0 True\n",
      "global_average_pooling2d True\n",
      "dense True\n"
     ]
    }
   ],
   "source": [
    "# looking for the trainable layers in the model \n",
    "\n",
    "for layer in model.layers:\n",
    "    print(layer.name, layer.trainable)"
   ]
  },
  {
   "cell_type": "code",
   "execution_count": 17,
   "metadata": {},
   "outputs": [
    {
     "name": "stdout",
     "output_type": "stream",
     "text": [
      "0 input_1 False\n",
      "1 rescaling False\n",
      "2 normalization False\n",
      "3 tf.math.multiply False\n",
      "4 stem_conv_pad False\n",
      "5 stem_conv False\n",
      "6 stem_bn False\n",
      "7 stem_activation False\n",
      "8 block1a_dwconv False\n",
      "9 block1a_bn False\n",
      "10 block1a_activation False\n",
      "11 block1a_se_squeeze False\n",
      "12 block1a_se_reshape False\n",
      "13 block1a_se_reduce False\n",
      "14 block1a_se_expand False\n",
      "15 block1a_se_excite False\n",
      "16 block1a_project_conv False\n",
      "17 block1a_project_bn False\n",
      "18 block2a_expand_conv False\n",
      "19 block2a_expand_bn False\n",
      "20 block2a_expand_activation False\n",
      "21 block2a_dwconv_pad False\n",
      "22 block2a_dwconv False\n",
      "23 block2a_bn False\n",
      "24 block2a_activation False\n",
      "25 block2a_se_squeeze False\n",
      "26 block2a_se_reshape False\n",
      "27 block2a_se_reduce False\n",
      "28 block2a_se_expand False\n",
      "29 block2a_se_excite False\n",
      "30 block2a_project_conv False\n",
      "31 block2a_project_bn False\n",
      "32 block2b_expand_conv False\n",
      "33 block2b_expand_bn False\n",
      "34 block2b_expand_activation False\n",
      "35 block2b_dwconv False\n",
      "36 block2b_bn False\n",
      "37 block2b_activation False\n",
      "38 block2b_se_squeeze False\n",
      "39 block2b_se_reshape False\n",
      "40 block2b_se_reduce False\n",
      "41 block2b_se_expand False\n",
      "42 block2b_se_excite False\n",
      "43 block2b_project_conv False\n",
      "44 block2b_project_bn False\n",
      "45 block2b_drop False\n",
      "46 block2b_add False\n",
      "47 block3a_expand_conv False\n",
      "48 block3a_expand_bn False\n",
      "49 block3a_expand_activation False\n",
      "50 block3a_dwconv_pad False\n",
      "51 block3a_dwconv False\n",
      "52 block3a_bn False\n",
      "53 block3a_activation False\n",
      "54 block3a_se_squeeze False\n",
      "55 block3a_se_reshape False\n",
      "56 block3a_se_reduce False\n",
      "57 block3a_se_expand False\n",
      "58 block3a_se_excite False\n",
      "59 block3a_project_conv False\n",
      "60 block3a_project_bn False\n",
      "61 block3b_expand_conv False\n",
      "62 block3b_expand_bn False\n",
      "63 block3b_expand_activation False\n",
      "64 block3b_dwconv False\n",
      "65 block3b_bn False\n",
      "66 block3b_activation False\n",
      "67 block3b_se_squeeze False\n",
      "68 block3b_se_reshape False\n",
      "69 block3b_se_reduce False\n",
      "70 block3b_se_expand False\n",
      "71 block3b_se_excite False\n",
      "72 block3b_project_conv False\n",
      "73 block3b_project_bn False\n",
      "74 block3b_drop False\n",
      "75 block3b_add False\n",
      "76 block4a_expand_conv False\n",
      "77 block4a_expand_bn False\n",
      "78 block4a_expand_activation False\n",
      "79 block4a_dwconv_pad False\n",
      "80 block4a_dwconv False\n",
      "81 block4a_bn False\n",
      "82 block4a_activation False\n",
      "83 block4a_se_squeeze False\n",
      "84 block4a_se_reshape False\n",
      "85 block4a_se_reduce False\n",
      "86 block4a_se_expand False\n",
      "87 block4a_se_excite False\n",
      "88 block4a_project_conv False\n",
      "89 block4a_project_bn False\n",
      "90 block4b_expand_conv False\n",
      "91 block4b_expand_bn False\n",
      "92 block4b_expand_activation False\n",
      "93 block4b_dwconv False\n",
      "94 block4b_bn False\n",
      "95 block4b_activation False\n",
      "96 block4b_se_squeeze False\n",
      "97 block4b_se_reshape False\n",
      "98 block4b_se_reduce False\n",
      "99 block4b_se_expand False\n",
      "100 block4b_se_excite False\n",
      "101 block4b_project_conv False\n",
      "102 block4b_project_bn False\n",
      "103 block4b_drop False\n",
      "104 block4b_add False\n",
      "105 block4c_expand_conv False\n",
      "106 block4c_expand_bn False\n",
      "107 block4c_expand_activation False\n",
      "108 block4c_dwconv False\n",
      "109 block4c_bn False\n",
      "110 block4c_activation False\n",
      "111 block4c_se_squeeze False\n",
      "112 block4c_se_reshape False\n",
      "113 block4c_se_reduce False\n",
      "114 block4c_se_expand False\n",
      "115 block4c_se_excite False\n",
      "116 block4c_project_conv False\n",
      "117 block4c_project_bn False\n",
      "118 block4c_drop False\n",
      "119 block4c_add False\n",
      "120 block5a_expand_conv False\n",
      "121 block5a_expand_bn False\n",
      "122 block5a_expand_activation False\n",
      "123 block5a_dwconv False\n",
      "124 block5a_bn False\n",
      "125 block5a_activation False\n",
      "126 block5a_se_squeeze False\n",
      "127 block5a_se_reshape False\n",
      "128 block5a_se_reduce False\n",
      "129 block5a_se_expand False\n",
      "130 block5a_se_excite False\n",
      "131 block5a_project_conv False\n",
      "132 block5a_project_bn False\n",
      "133 block5b_expand_conv False\n",
      "134 block5b_expand_bn False\n",
      "135 block5b_expand_activation False\n",
      "136 block5b_dwconv False\n",
      "137 block5b_bn False\n",
      "138 block5b_activation False\n",
      "139 block5b_se_squeeze False\n",
      "140 block5b_se_reshape False\n",
      "141 block5b_se_reduce False\n",
      "142 block5b_se_expand False\n",
      "143 block5b_se_excite False\n",
      "144 block5b_project_conv False\n",
      "145 block5b_project_bn False\n",
      "146 block5b_drop False\n",
      "147 block5b_add False\n",
      "148 block5c_expand_conv False\n",
      "149 block5c_expand_bn False\n",
      "150 block5c_expand_activation False\n",
      "151 block5c_dwconv False\n",
      "152 block5c_bn False\n",
      "153 block5c_activation False\n",
      "154 block5c_se_squeeze False\n",
      "155 block5c_se_reshape False\n",
      "156 block5c_se_reduce False\n",
      "157 block5c_se_expand False\n",
      "158 block5c_se_excite False\n",
      "159 block5c_project_conv False\n",
      "160 block5c_project_bn False\n",
      "161 block5c_drop False\n",
      "162 block5c_add False\n",
      "163 block6a_expand_conv False\n",
      "164 block6a_expand_bn False\n",
      "165 block6a_expand_activation False\n",
      "166 block6a_dwconv_pad False\n",
      "167 block6a_dwconv False\n",
      "168 block6a_bn False\n",
      "169 block6a_activation False\n",
      "170 block6a_se_squeeze False\n",
      "171 block6a_se_reshape False\n",
      "172 block6a_se_reduce False\n",
      "173 block6a_se_expand False\n",
      "174 block6a_se_excite False\n",
      "175 block6a_project_conv False\n",
      "176 block6a_project_bn False\n",
      "177 block6b_expand_conv False\n",
      "178 block6b_expand_bn False\n",
      "179 block6b_expand_activation False\n",
      "180 block6b_dwconv False\n",
      "181 block6b_bn False\n",
      "182 block6b_activation False\n",
      "183 block6b_se_squeeze False\n",
      "184 block6b_se_reshape False\n",
      "185 block6b_se_reduce False\n",
      "186 block6b_se_expand False\n",
      "187 block6b_se_excite False\n",
      "188 block6b_project_conv False\n",
      "189 block6b_project_bn False\n",
      "190 block6b_drop False\n",
      "191 block6b_add False\n",
      "192 block6c_expand_conv False\n",
      "193 block6c_expand_bn False\n",
      "194 block6c_expand_activation False\n",
      "195 block6c_dwconv False\n",
      "196 block6c_bn False\n",
      "197 block6c_activation False\n",
      "198 block6c_se_squeeze False\n",
      "199 block6c_se_reshape False\n",
      "200 block6c_se_reduce False\n",
      "201 block6c_se_expand False\n",
      "202 block6c_se_excite False\n",
      "203 block6c_project_conv False\n",
      "204 block6c_project_bn False\n",
      "205 block6c_drop False\n",
      "206 block6c_add False\n",
      "207 block6d_expand_conv False\n",
      "208 block6d_expand_bn False\n",
      "209 block6d_expand_activation False\n",
      "210 block6d_dwconv False\n",
      "211 block6d_bn False\n",
      "212 block6d_activation False\n",
      "213 block6d_se_squeeze False\n",
      "214 block6d_se_reshape False\n",
      "215 block6d_se_reduce False\n",
      "216 block6d_se_expand False\n",
      "217 block6d_se_excite False\n",
      "218 block6d_project_conv False\n",
      "219 block6d_project_bn False\n",
      "220 block6d_drop False\n",
      "221 block6d_add False\n",
      "222 block7a_expand_conv False\n",
      "223 block7a_expand_bn False\n",
      "224 block7a_expand_activation False\n",
      "225 block7a_dwconv False\n",
      "226 block7a_bn False\n",
      "227 block7a_activation False\n",
      "228 block7a_se_squeeze False\n",
      "229 block7a_se_reshape False\n",
      "230 block7a_se_reduce False\n",
      "231 block7a_se_expand False\n",
      "232 block7a_se_excite False\n",
      "233 block7a_project_conv True\n",
      "234 block7a_project_bn True\n",
      "235 top_conv True\n",
      "236 top_bn True\n",
      "237 top_activation True\n"
     ]
    }
   ],
   "source": [
    "# Checking for the trainable layers in the base_model \n",
    "\n",
    "for layer_number , layer in enumerate(base_model.layers):\n",
    "    print(layer_number, layer.name, layer.trainable)\n",
    "\n",
    "\n",
    "\n",
    "# This should show that the last 5 layers should be trainable , and every other layer should be frozen"
   ]
  },
  {
   "cell_type": "code",
   "execution_count": 18,
   "metadata": {},
   "outputs": [
    {
     "name": "stdout",
     "output_type": "stream",
     "text": [
      "Epoch 5/10\n"
     ]
    },
    {
     "name": "stdout",
     "output_type": "stream",
     "text": [
      "237/237 [==============================] - 161s 640ms/step - loss: 1.2088 - accuracy: 0.6855 - val_loss: 1.7127 - val_accuracy: 0.5477\n",
      "Epoch 6/10\n",
      "237/237 [==============================] - 102s 429ms/step - loss: 1.0924 - accuracy: 0.7134 - val_loss: 1.6967 - val_accuracy: 0.5553\n",
      "Epoch 7/10\n",
      "237/237 [==============================] - 88s 370ms/step - loss: 1.0140 - accuracy: 0.7290 - val_loss: 1.6885 - val_accuracy: 0.5514\n",
      "Epoch 8/10\n",
      "237/237 [==============================] - 76s 321ms/step - loss: 0.9414 - accuracy: 0.7489 - val_loss: 1.6745 - val_accuracy: 0.5543\n",
      "Epoch 9/10\n",
      "237/237 [==============================] - 69s 291ms/step - loss: 0.8796 - accuracy: 0.7603 - val_loss: 1.7666 - val_accuracy: 0.5379\n",
      "Epoch 10/10\n",
      "237/237 [==============================] - 61s 258ms/step - loss: 0.8293 - accuracy: 0.7747 - val_loss: 1.7208 - val_accuracy: 0.5493\n"
     ]
    }
   ],
   "source": [
    "# Model Fine-Tuning : starting the training  from the epoch left behind last time \n",
    "\n",
    "fine_tune_epochs = 10 # model has already trained for 5 epochs , resumin from that point \n",
    "# Fine -Tune \n",
    "\n",
    "history_all_classes_10_percent_fine_tune = model.fit (train_data_all_10_percent,\n",
    "                                                       epochs = fine_tune_epochs,\n",
    "                                                       validation_data = test_data,\n",
    "                                                       validation_steps = int(0.15 * len(test_data)),\n",
    "                                                       initial_epoch = history_10_percent.epoch[-1])\n",
    "\n",
    "\n"
   ]
  },
  {
   "cell_type": "code",
   "execution_count": 19,
   "metadata": {},
   "outputs": [
    {
     "name": "stdout",
     "output_type": "stream",
     "text": [
      "790/790 [==============================] - 40s 51ms/step - loss: 1.4910 - accuracy: 0.6038\n"
     ]
    },
    {
     "data": {
      "text/plain": [
       "[1.491006851196289, 0.603801965713501]"
      ]
     },
     "execution_count": 19,
     "metadata": {},
     "output_type": "execute_result"
    }
   ],
   "source": [
    "# Evaluate on the full Test Data \n",
    "\n",
    "all_classes_10_percent_fine_tune_results = model.evaluate(test_data)\n",
    "all_classes_10_percent_fine_tune_results\n"
   ]
  },
  {
   "cell_type": "code",
   "execution_count": 20,
   "metadata": {},
   "outputs": [
    {
     "data": {
      "image/png": "[encoded data removed]",
      "text/plain": [
       "<Figure size 800x800 with 2 Axes>"
      ]
     },
     "metadata": {},
     "output_type": "display_data"
    }
   ],
   "source": [
    "# Compare the histories , with feature extraction models , with fine tune models\n",
    "\n",
    "compare_historys(original_history = history_10_percent,\n",
    "                 new_history = history_all_classes_10_percent_fine_tune,\n",
    "                 initial_epochs = 5)"
   ]
  },
  {
   "cell_type": "code",
   "execution_count": 21,
   "metadata": {},
   "outputs": [
    {
     "name": "stdout",
     "output_type": "stream",
     "text": [
      "INFO:tensorflow:Assets written to: 101_classes_10_percent_saved_model/assets\n"
     ]
    },
    {
     "name": "stderr",
     "output_type": "stream",
     "text": [
      "INFO:tensorflow:Assets written to: 101_classes_10_percent_saved_model/assets\n"
     ]
    }
   ],
   "source": [
    "# Saving and Loading the model \n",
    "\n",
    "model.save(\"101_classes_10_percent_saved_model\")"
   ]
  },
  {
   "cell_type": "code",
   "execution_count": 22,
   "metadata": {},
   "outputs": [],
   "source": [
    "loaded_model = tf_keras.models.load_model(\"101_classes_10_percent_saved_model\")"
   ]
  },
  {
   "cell_type": "code",
   "execution_count": 23,
   "metadata": {},
   "outputs": [
    {
     "name": "stdout",
     "output_type": "stream",
     "text": [
      "790/790 [==============================] - 42s 52ms/step - loss: 1.4910 - accuracy: 0.6038\n"
     ]
    },
    {
     "data": {
      "text/plain": [
       "[1.491006851196289, 0.603801965713501]"
      ]
     },
     "execution_count": 23,
     "metadata": {},
     "output_type": "execute_result"
    }
   ],
   "source": [
    "loaded_model_results = loaded_model.evaluate(test_data)\n",
    "loaded_model_results"
   ]
  },
  {
   "cell_type": "code",
   "execution_count": 24,
   "metadata": {},
   "outputs": [
    {
     "name": "stdout",
     "output_type": "stream",
     "text": [
      "WARNING:tensorflow:SavedModel saved prior to TF 2.5 detected when loading Keras model. Please ensure that you are saving the model with model.save() or tf.keras.models.save_model(), *NOT* tf.saved_model.save(). To confirm, there should be a file named \"keras_metadata.pb\" in the SavedModel directory.\n"
     ]
    },
    {
     "name": "stderr",
     "output_type": "stream",
     "text": [
      "WARNING:tensorflow:SavedModel saved prior to TF 2.5 detected when loading Keras model. Please ensure that you are saving the model with model.save() or tf.keras.models.save_model(), *NOT* tf.saved_model.save(). To confirm, there should be a file named \"keras_metadata.pb\" in the SavedModel directory.\n",
      "WARNING:absl:Importing a function (__inference_block6c_expand_activation_layer_call_and_return_conditional_losses_419470) with ops with unsaved custom gradients. Will likely fail if a gradient is requested.\n",
      "WARNING:absl:Importing a function (__inference_efficientnetb0_layer_call_and_return_conditional_losses_446460) with ops with unsaved custom gradients. Will likely fail if a gradient is requested.\n",
      "WARNING:absl:Importing a function (__inference_block2a_activation_layer_call_and_return_conditional_losses_450449) with ops with unsaved custom gradients. Will likely fail if a gradient is requested.\n",
      "WARNING:absl:Importing a function (__inference_block2a_expand_activation_layer_call_and_return_conditional_losses_415747) with ops with unsaved custom gradients. Will likely fail if a gradient is requested.\n",
      "WARNING:absl:Importing a function (__inference_block2b_activation_layer_call_and_return_conditional_losses_416083) with ops with unsaved custom gradients. Will likely fail if a gradient is requested.\n",
      "WARNING:absl:Importing a function (__inference_block2b_activation_layer_call_and_return_conditional_losses_450775) with ops with unsaved custom gradients. Will likely fail if a gradient is requested.\n",
      "WARNING:absl:Importing a function (__inference_block4a_activation_layer_call_and_return_conditional_losses_451847) with ops with unsaved custom gradients. Will likely fail if a gradient is requested.\n",
      "WARNING:absl:Importing a function (__inference_block5a_expand_activation_layer_call_and_return_conditional_losses_417915) with ops with unsaved custom gradients. Will likely fail if a gradient is requested.\n",
      "WARNING:absl:Importing a function (__inference_block4a_se_reduce_layer_call_and_return_conditional_losses_451887) with ops with unsaved custom gradients. Will likely fail if a gradient is requested.\n",
      "WARNING:absl:Importing a function (__inference_block4c_expand_activation_layer_call_and_return_conditional_losses_452467) with ops with unsaved custom gradients. Will likely fail if a gradient is requested.\n",
      "WARNING:absl:Importing a function (__inference_functional_17_layer_call_and_return_conditional_losses_438312) with ops with unsaved custom gradients. Will likely fail if a gradient is requested.\n",
      "WARNING:absl:Importing a function (__inference_block4c_expand_activation_layer_call_and_return_conditional_losses_417583) with ops with unsaved custom gradients. Will likely fail if a gradient is requested.\n",
      "WARNING:absl:Importing a function (__inference_block5c_activation_layer_call_and_return_conditional_losses_418582) with ops with unsaved custom gradients. Will likely fail if a gradient is requested.\n",
      "WARNING:absl:Importing a function (__inference_block6a_se_reduce_layer_call_and_return_conditional_losses_454031) with ops with unsaved custom gradients. Will likely fail if a gradient is requested.\n",
      "WARNING:absl:Importing a function (__inference_block7a_activation_layer_call_and_return_conditional_losses_455436) with ops with unsaved custom gradients. Will likely fail if a gradient is requested.\n",
      "WARNING:absl:Importing a function (__inference_block1a_activation_layer_call_and_return_conditional_losses_415524) with ops with unsaved custom gradients. Will likely fail if a gradient is requested.\n",
      "WARNING:absl:Importing a function (__inference_block3b_activation_layer_call_and_return_conditional_losses_451474) with ops with unsaved custom gradients. Will likely fail if a gradient is requested.\n",
      "WARNING:absl:Importing a function (__inference_block4a_expand_activation_layer_call_and_return_conditional_losses_451768) with ops with unsaved custom gradients. Will likely fail if a gradient is requested.\n",
      "WARNING:absl:Importing a function (__inference_efficientnetb0_layer_call_and_return_conditional_losses_441729) with ops with unsaved custom gradients. Will likely fail if a gradient is requested.\n",
      "WARNING:absl:Importing a function (__inference_block6b_se_reduce_layer_call_and_return_conditional_losses_454357) with ops with unsaved custom gradients. Will likely fail if a gradient is requested.\n",
      "WARNING:absl:Importing a function (__inference_block3b_activation_layer_call_and_return_conditional_losses_416695) with ops with unsaved custom gradients. Will likely fail if a gradient is requested.\n",
      "WARNING:absl:Importing a function (__inference_block6b_expand_activation_layer_call_and_return_conditional_losses_454238) with ops with unsaved custom gradients. Will likely fail if a gradient is requested.\n",
      "WARNING:absl:Importing a function (__inference_functional_17_layer_call_and_return_conditional_losses_436681) with ops with unsaved custom gradients. Will likely fail if a gradient is requested.\n",
      "WARNING:absl:Importing a function (__inference_block2a_activation_layer_call_and_return_conditional_losses_415804) with ops with unsaved custom gradients. Will likely fail if a gradient is requested.\n",
      "WARNING:absl:Importing a function (__inference_block5a_activation_layer_call_and_return_conditional_losses_452919) with ops with unsaved custom gradients. Will likely fail if a gradient is requested.\n",
      "WARNING:absl:Importing a function (__inference_block5c_se_reduce_layer_call_and_return_conditional_losses_453658) with ops with unsaved custom gradients. Will likely fail if a gradient is requested.\n",
      "WARNING:absl:Importing a function (__inference_efficientnetb0_layer_call_and_return_conditional_losses_448082) with ops with unsaved custom gradients. Will likely fail if a gradient is requested.\n",
      "WARNING:absl:Importing a function (__inference_block6a_activation_layer_call_and_return_conditional_losses_418915) with ops with unsaved custom gradients. Will likely fail if a gradient is requested.\n",
      "WARNING:absl:Importing a function (__inference_block5c_expand_activation_layer_call_and_return_conditional_losses_453539) with ops with unsaved custom gradients. Will likely fail if a gradient is requested.\n",
      "WARNING:absl:Importing a function (__inference_block4c_se_reduce_layer_call_and_return_conditional_losses_452586) with ops with unsaved custom gradients. Will likely fail if a gradient is requested.\n",
      "WARNING:absl:Importing a function (__inference_block1a_se_reduce_layer_call_and_return_conditional_losses_450163) with ops with unsaved custom gradients. Will likely fail if a gradient is requested.\n",
      "WARNING:absl:Importing a function (__inference_block5a_se_reduce_layer_call_and_return_conditional_losses_418018) with ops with unsaved custom gradients. Will likely fail if a gradient is requested.\n",
      "WARNING:absl:Importing a function (__inference_block7a_expand_activation_layer_call_and_return_conditional_losses_455357) with ops with unsaved custom gradients. Will likely fail if a gradient is requested.\n",
      "WARNING:absl:Importing a function (__inference_block4c_activation_layer_call_and_return_conditional_losses_417639) with ops with unsaved custom gradients. Will likely fail if a gradient is requested.\n",
      "WARNING:absl:Importing a function (__inference_block3a_se_reduce_layer_call_and_return_conditional_losses_451188) with ops with unsaved custom gradients. Will likely fail if a gradient is requested.\n",
      "WARNING:absl:Importing a function (__inference_block7a_activation_layer_call_and_return_conditional_losses_420190) with ops with unsaved custom gradients. Will likely fail if a gradient is requested.\n",
      "WARNING:absl:Importing a function (__inference_stem_activation_layer_call_and_return_conditional_losses_415468) with ops with unsaved custom gradients. Will likely fail if a gradient is requested.\n",
      "WARNING:absl:Importing a function (__inference_block7a_se_reduce_layer_call_and_return_conditional_losses_455476) with ops with unsaved custom gradients. Will likely fail if a gradient is requested.\n",
      "WARNING:absl:Importing a function (__inference_block4b_se_reduce_layer_call_and_return_conditional_losses_417354) with ops with unsaved custom gradients. Will likely fail if a gradient is requested.\n",
      "WARNING:absl:Importing a function (__inference_block4b_se_reduce_layer_call_and_return_conditional_losses_452213) with ops with unsaved custom gradients. Will likely fail if a gradient is requested.\n",
      "WARNING:absl:Importing a function (__inference_block4b_activation_layer_call_and_return_conditional_losses_452173) with ops with unsaved custom gradients. Will likely fail if a gradient is requested.\n",
      "WARNING:absl:Importing a function (__inference_block1a_se_reduce_layer_call_and_return_conditional_losses_415571) with ops with unsaved custom gradients. Will likely fail if a gradient is requested.\n",
      "WARNING:absl:Importing a function (__inference_block3b_se_reduce_layer_call_and_return_conditional_losses_451514) with ops with unsaved custom gradients. Will likely fail if a gradient is requested.\n",
      "WARNING:absl:Importing a function (__inference_block5a_activation_layer_call_and_return_conditional_losses_417971) with ops with unsaved custom gradients. Will likely fail if a gradient is requested.\n",
      "WARNING:absl:Importing a function (__inference_block6c_se_reduce_layer_call_and_return_conditional_losses_454730) with ops with unsaved custom gradients. Will likely fail if a gradient is requested.\n",
      "WARNING:absl:Importing a function (__inference_block3b_se_reduce_layer_call_and_return_conditional_losses_416742) with ops with unsaved custom gradients. Will likely fail if a gradient is requested.\n",
      "WARNING:absl:Importing a function (__inference_block2a_se_reduce_layer_call_and_return_conditional_losses_450489) with ops with unsaved custom gradients. Will likely fail if a gradient is requested.\n",
      "WARNING:absl:Importing a function (__inference_block3a_activation_layer_call_and_return_conditional_losses_451148) with ops with unsaved custom gradients. Will likely fail if a gradient is requested.\n",
      "WARNING:absl:Importing a function (__inference_block5b_expand_activation_layer_call_and_return_conditional_losses_418194) with ops with unsaved custom gradients. Will likely fail if a gradient is requested.\n",
      "WARNING:absl:Importing a function (__inference_block3a_se_reduce_layer_call_and_return_conditional_losses_416463) with ops with unsaved custom gradients. Will likely fail if a gradient is requested.\n",
      "WARNING:absl:Importing a function (__inference_efficientnetb0_layer_call_and_return_conditional_losses_429711) with ops with unsaved custom gradients. Will likely fail if a gradient is requested.\n",
      "WARNING:absl:Importing a function (__inference_efficientnetb0_layer_call_and_return_conditional_losses_443351) with ops with unsaved custom gradients. Will likely fail if a gradient is requested.\n",
      "WARNING:absl:Importing a function (__inference_block5c_expand_activation_layer_call_and_return_conditional_losses_418526) with ops with unsaved custom gradients. Will likely fail if a gradient is requested.\n",
      "WARNING:absl:Importing a function (__inference_block5b_activation_layer_call_and_return_conditional_losses_453245) with ops with unsaved custom gradients. Will likely fail if a gradient is requested.\n",
      "WARNING:absl:Importing a function (__inference_block3a_activation_layer_call_and_return_conditional_losses_416416) with ops with unsaved custom gradients. Will likely fail if a gradient is requested.\n",
      "WARNING:absl:Importing a function (__inference_efficientnetb0_layer_call_and_return_conditional_losses_428089) with ops with unsaved custom gradients. Will likely fail if a gradient is requested.\n",
      "WARNING:absl:Importing a function (__inference_block2b_expand_activation_layer_call_and_return_conditional_losses_416027) with ops with unsaved custom gradients. Will likely fail if a gradient is requested.\n",
      "WARNING:absl:Importing a function (__inference_block6a_expand_activation_layer_call_and_return_conditional_losses_453912) with ops with unsaved custom gradients. Will likely fail if a gradient is requested.\n",
      "WARNING:absl:Importing a function (__inference_block4c_activation_layer_call_and_return_conditional_losses_452546) with ops with unsaved custom gradients. Will likely fail if a gradient is requested.\n",
      "WARNING:absl:Importing a function (__inference_block7a_se_reduce_layer_call_and_return_conditional_losses_420237) with ops with unsaved custom gradients. Will likely fail if a gradient is requested.\n",
      "WARNING:absl:Importing a function (__inference_block5c_se_reduce_layer_call_and_return_conditional_losses_418629) with ops with unsaved custom gradients. Will likely fail if a gradient is requested.\n",
      "WARNING:absl:Importing a function (__inference_block3a_expand_activation_layer_call_and_return_conditional_losses_416359) with ops with unsaved custom gradients. Will likely fail if a gradient is requested.\n",
      "WARNING:absl:Importing a function (__inference_block3b_expand_activation_layer_call_and_return_conditional_losses_451395) with ops with unsaved custom gradients. Will likely fail if a gradient is requested.\n",
      "WARNING:absl:Importing a function (__inference_block6c_activation_layer_call_and_return_conditional_losses_454690) with ops with unsaved custom gradients. Will likely fail if a gradient is requested.\n",
      "WARNING:absl:Importing a function (__inference_block6d_se_reduce_layer_call_and_return_conditional_losses_419905) with ops with unsaved custom gradients. Will likely fail if a gradient is requested.\n",
      "WARNING:absl:Importing a function (__inference_block6c_activation_layer_call_and_return_conditional_losses_419526) with ops with unsaved custom gradients. Will likely fail if a gradient is requested.\n",
      "WARNING:absl:Importing a function (__inference_block5b_se_reduce_layer_call_and_return_conditional_losses_418297) with ops with unsaved custom gradients. Will likely fail if a gradient is requested.\n",
      "WARNING:absl:Importing a function (__inference_block4b_expand_activation_layer_call_and_return_conditional_losses_452094) with ops with unsaved custom gradients. Will likely fail if a gradient is requested.\n",
      "WARNING:absl:Importing a function (__inference__wrapped_model_408990) with ops with unsaved custom gradients. Will likely fail if a gradient is requested.\n",
      "WARNING:absl:Importing a function (__inference_block5c_activation_layer_call_and_return_conditional_losses_453618) with ops with unsaved custom gradients. Will likely fail if a gradient is requested.\n",
      "WARNING:absl:Importing a function (__inference_block6d_expand_activation_layer_call_and_return_conditional_losses_454984) with ops with unsaved custom gradients. Will likely fail if a gradient is requested.\n",
      "WARNING:absl:Importing a function (__inference_block2b_expand_activation_layer_call_and_return_conditional_losses_450696) with ops with unsaved custom gradients. Will likely fail if a gradient is requested.\n",
      "WARNING:absl:Importing a function (__inference_block6a_expand_activation_layer_call_and_return_conditional_losses_418858) with ops with unsaved custom gradients. Will likely fail if a gradient is requested.\n",
      "WARNING:absl:Importing a function (__inference_stem_activation_layer_call_and_return_conditional_losses_450044) with ops with unsaved custom gradients. Will likely fail if a gradient is requested.\n",
      "WARNING:absl:Importing a function (__inference_block5b_activation_layer_call_and_return_conditional_losses_418250) with ops with unsaved custom gradients. Will likely fail if a gradient is requested.\n",
      "WARNING:absl:Importing a function (__inference_block6a_activation_layer_call_and_return_conditional_losses_453991) with ops with unsaved custom gradients. Will likely fail if a gradient is requested.\n",
      "WARNING:absl:Importing a function (__inference_block5b_se_reduce_layer_call_and_return_conditional_losses_453285) with ops with unsaved custom gradients. Will likely fail if a gradient is requested.\n",
      "WARNING:absl:Importing a function (__inference_block4a_expand_activation_layer_call_and_return_conditional_losses_416971) with ops with unsaved custom gradients. Will likely fail if a gradient is requested.\n",
      "WARNING:absl:Importing a function (__inference_top_activation_layer_call_and_return_conditional_losses_455683) with ops with unsaved custom gradients. Will likely fail if a gradient is requested.\n",
      "WARNING:absl:Importing a function (__inference_block2a_se_reduce_layer_call_and_return_conditional_losses_415851) with ops with unsaved custom gradients. Will likely fail if a gradient is requested.\n",
      "WARNING:absl:Importing a function (__inference_block5b_expand_activation_layer_call_and_return_conditional_losses_453166) with ops with unsaved custom gradients. Will likely fail if a gradient is requested.\n",
      "WARNING:absl:Importing a function (__inference_top_activation_layer_call_and_return_conditional_losses_420413) with ops with unsaved custom gradients. Will likely fail if a gradient is requested.\n",
      "WARNING:absl:Importing a function (__inference_block1a_activation_layer_call_and_return_conditional_losses_450123) with ops with unsaved custom gradients. Will likely fail if a gradient is requested.\n",
      "WARNING:absl:Importing a function (__inference_block4a_se_reduce_layer_call_and_return_conditional_losses_417075) with ops with unsaved custom gradients. Will likely fail if a gradient is requested.\n",
      "WARNING:absl:Importing a function (__inference_block5a_expand_activation_layer_call_and_return_conditional_losses_452840) with ops with unsaved custom gradients. Will likely fail if a gradient is requested.\n",
      "WARNING:absl:Importing a function (__inference_block4b_activation_layer_call_and_return_conditional_losses_417307) with ops with unsaved custom gradients. Will likely fail if a gradient is requested.\n",
      "WARNING:absl:Importing a function (__inference_block6d_activation_layer_call_and_return_conditional_losses_455063) with ops with unsaved custom gradients. Will likely fail if a gradient is requested.\n",
      "WARNING:absl:Importing a function (__inference_block6d_expand_activation_layer_call_and_return_conditional_losses_419802) with ops with unsaved custom gradients. Will likely fail if a gradient is requested.\n",
      "WARNING:absl:Importing a function (__inference_block6d_activation_layer_call_and_return_conditional_losses_419858) with ops with unsaved custom gradients. Will likely fail if a gradient is requested.\n",
      "WARNING:absl:Importing a function (__inference_block5a_se_reduce_layer_call_and_return_conditional_losses_452959) with ops with unsaved custom gradients. Will likely fail if a gradient is requested.\n",
      "WARNING:absl:Importing a function (__inference_block3a_expand_activation_layer_call_and_return_conditional_losses_451069) with ops with unsaved custom gradients. Will likely fail if a gradient is requested.\n",
      "WARNING:absl:Importing a function (__inference_block2a_expand_activation_layer_call_and_return_conditional_losses_450370) with ops with unsaved custom gradients. Will likely fail if a gradient is requested.\n",
      "WARNING:absl:Importing a function (__inference_block6b_expand_activation_layer_call_and_return_conditional_losses_419138) with ops with unsaved custom gradients. Will likely fail if a gradient is requested.\n",
      "WARNING:absl:Importing a function (__inference_block6b_activation_layer_call_and_return_conditional_losses_419194) with ops with unsaved custom gradients. Will likely fail if a gradient is requested.\n",
      "WARNING:absl:Importing a function (__inference_block6c_se_reduce_layer_call_and_return_conditional_losses_419573) with ops with unsaved custom gradients. Will likely fail if a gradient is requested.\n",
      "WARNING:absl:Importing a function (__inference_block7a_expand_activation_layer_call_and_return_conditional_losses_420134) with ops with unsaved custom gradients. Will likely fail if a gradient is requested.\n",
      "WARNING:absl:Importing a function (__inference_block4a_activation_layer_call_and_return_conditional_losses_417028) with ops with unsaved custom gradients. Will likely fail if a gradient is requested.\n",
      "WARNING:absl:Importing a function (__inference_block6c_expand_activation_layer_call_and_return_conditional_losses_454611) with ops with unsaved custom gradients. Will likely fail if a gradient is requested.\n",
      "WARNING:absl:Importing a function (__inference_block3b_expand_activation_layer_call_and_return_conditional_losses_416639) with ops with unsaved custom gradients. Will likely fail if a gradient is requested.\n",
      "WARNING:absl:Importing a function (__inference_block4c_se_reduce_layer_call_and_return_conditional_losses_417686) with ops with unsaved custom gradients. Will likely fail if a gradient is requested.\n",
      "WARNING:absl:Importing a function (__inference_block4b_expand_activation_layer_call_and_return_conditional_losses_417251) with ops with unsaved custom gradients. Will likely fail if a gradient is requested.\n",
      "WARNING:absl:Importing a function (__inference_block6d_se_reduce_layer_call_and_return_conditional_losses_455103) with ops with unsaved custom gradients. Will likely fail if a gradient is requested.\n",
      "WARNING:absl:Importing a function (__inference_block2b_se_reduce_layer_call_and_return_conditional_losses_450815) with ops with unsaved custom gradients. Will likely fail if a gradient is requested.\n",
      "WARNING:absl:Importing a function (__inference_block2b_se_reduce_layer_call_and_return_conditional_losses_416130) with ops with unsaved custom gradients. Will likely fail if a gradient is requested.\n",
      "WARNING:absl:Importing a function (__inference_block6b_activation_layer_call_and_return_conditional_losses_454317) with ops with unsaved custom gradients. Will likely fail if a gradient is requested.\n",
      "WARNING:absl:Importing a function (__inference_block6a_se_reduce_layer_call_and_return_conditional_losses_418962) with ops with unsaved custom gradients. Will likely fail if a gradient is requested.\n",
      "WARNING:absl:Importing a function (__inference_block6b_se_reduce_layer_call_and_return_conditional_losses_419241) with ops with unsaved custom gradients. Will likely fail if a gradient is requested.\n"
     ]
    }
   ],
   "source": [
    "# Evaluating the performance of the model , accross all the different classes\n",
    "# Making predictions and plotting them \n",
    "\n",
    "import numpy as np\n",
    "from tf_keras import utils\n",
    "\n",
    "\n",
    "# uSING A ALREADY BUILT FINE TUNE MODEL \n",
    "\n",
    "# Load the saved model\n",
    "\n",
    "model = tf_keras.models.load_model(\"/home/akhil/Documents/Tf_Local/06_101_food_class_10_percent_saved_big_dog_model (2)/06_101_food_class_10_percent_saved_big_dog_model\")\n"
   ]
  },
  {
   "cell_type": "code",
   "execution_count": 25,
   "metadata": {},
   "outputs": [
    {
     "name": "stdout",
     "output_type": "stream",
     "text": [
      "790/790 [==============================] - 41s 51ms/step - loss: 1.8022 - accuracy: 0.6078\n"
     ]
    },
    {
     "data": {
      "text/plain": [
       "[1.8021925687789917, 0.6078416109085083]"
      ]
     },
     "execution_count": 25,
     "metadata": {},
     "output_type": "execute_result"
    }
   ],
   "source": [
    "# Evaluate the loaded model ( in test data)\n",
    "\n",
    "results_premade_model = model.evaluate(test_data)\n",
    "results_premade_model"
   ]
  },
  {
   "cell_type": "code",
   "execution_count": 26,
   "metadata": {},
   "outputs": [
    {
     "name": "stdout",
     "output_type": "stream",
     "text": [
      "790/790 [==============================] - 39s 48ms/step\n"
     ]
    }
   ],
   "source": [
    "preds_probs = model.predict(test_data, verbose = 1)"
   ]
  },
  {
   "cell_type": "code",
   "execution_count": 27,
   "metadata": {},
   "outputs": [
    {
     "data": {
      "text/plain": [
       "790"
      ]
     },
     "execution_count": 27,
     "metadata": {},
     "output_type": "execute_result"
    }
   ],
   "source": [
    "len(test_data)"
   ]
  },
  {
   "cell_type": "code",
   "execution_count": 28,
   "metadata": {},
   "outputs": [
    {
     "data": {
      "text/plain": [
       "25280"
      ]
     },
     "execution_count": 28,
     "metadata": {},
     "output_type": "execute_result"
    }
   ],
   "source": [
    "790*32"
   ]
  },
  {
   "cell_type": "code",
   "execution_count": 29,
   "metadata": {},
   "outputs": [
    {
     "data": {
      "text/plain": [
       "25250"
      ]
     },
     "execution_count": 29,
     "metadata": {},
     "output_type": "execute_result"
    }
   ],
   "source": [
    "# How many predictions are there ?\n",
    "\n",
    "len(preds_probs)"
   ]
  },
  {
   "cell_type": "code",
   "execution_count": 30,
   "metadata": {},
   "outputs": [
    {
     "data": {
      "text/plain": [
       "(25250, 101)"
      ]
     },
     "execution_count": 30,
     "metadata": {},
     "output_type": "execute_result"
    }
   ],
   "source": [
    "# What is the shape of the PRedictions ?\n",
    "preds_probs.shape"
   ]
  },
  {
   "cell_type": "code",
   "execution_count": 31,
   "metadata": {},
   "outputs": [
    {
     "data": {
      "text/plain": [
       "array([[5.9386708e-02, 3.5747303e-06, 4.1280869e-02, ..., 1.4112708e-09,\n",
       "        8.3762250e-05, 3.0842533e-03],\n",
       "       [9.6350169e-01, 1.3720646e-09, 8.4753177e-04, ..., 5.4724285e-05,\n",
       "        7.8266577e-12, 9.7968811e-10],\n",
       "       [9.5956594e-01, 3.2370048e-05, 1.4756998e-03, ..., 7.1490882e-07,\n",
       "        5.4971537e-07, 4.0044932e-05],\n",
       "       ...,\n",
       "       [4.7309124e-01, 1.2900098e-07, 1.4718017e-03, ..., 5.9502193e-04,\n",
       "        6.7334659e-05, 2.3502811e-05],\n",
       "       [4.4531006e-02, 4.7604877e-07, 1.2223568e-01, ..., 6.3220350e-06,\n",
       "        7.5684193e-06, 3.6753835e-03],\n",
       "       [7.2422320e-01, 1.9260369e-09, 5.2292740e-05, ..., 1.2220119e-03,\n",
       "        1.5770126e-09, 9.6254575e-05]], dtype=float32)"
      ]
     },
     "execution_count": 31,
     "metadata": {},
     "output_type": "execute_result"
    }
   ],
   "source": [
    "# What are the 10 first predictions ?\n",
    "preds_probs[:10]"
   ]
  },
  {
   "cell_type": "code",
   "execution_count": 32,
   "metadata": {},
   "outputs": [
    {
     "data": {
      "text/plain": [
       "(array([5.9386708e-02, 3.5747303e-06, 4.1280869e-02, 1.0592210e-09,\n",
       "        8.1656948e-09, 8.5725880e-09, 8.0980789e-07, 8.4500476e-07,\n",
       "        1.9760229e-05, 7.9796638e-07, 3.1705121e-09, 9.7980217e-07,\n",
       "        2.8393482e-04, 7.7416706e-10, 7.3978468e-04, 3.8668364e-05,\n",
       "        6.4538913e-06, 2.4955355e-06, 3.7628870e-05, 2.0478858e-07,\n",
       "        1.5546590e-05, 8.0694463e-07, 2.6047994e-06, 2.0285646e-07,\n",
       "        8.2894064e-07, 5.4123880e-06, 3.7363448e-06, 1.3161273e-08,\n",
       "        2.7436682e-03, 2.7954495e-05, 6.8107542e-10, 2.5341104e-05,\n",
       "        1.6642838e-04, 7.5475942e-10, 4.0284812e-04, 1.3077920e-08,\n",
       "        1.7873915e-06, 1.4374262e-06, 2.3150882e-02, 8.2202712e-07,\n",
       "        8.5741175e-07, 1.6920036e-06, 7.0452434e-06, 1.8502085e-08,\n",
       "        2.8571301e-07, 7.9483316e-06, 2.0710429e-06, 1.8579009e-07,\n",
       "        3.3334356e-08, 3.1635989e-04, 1.0483816e-05, 8.5382464e-07,\n",
       "        8.4773231e-01, 1.0542810e-05, 4.3458138e-07, 3.7250396e-05,\n",
       "        3.5064731e-05, 3.2475069e-05, 6.7055254e-05, 1.2683439e-08,\n",
       "        2.6126409e-10, 1.0299961e-05, 8.4912550e-05, 1.0503686e-06,\n",
       "        2.1152648e-06, 3.7245638e-05, 7.5139184e-08, 2.5048896e-04,\n",
       "        9.3365594e-07, 1.2445738e-04, 6.1743535e-06, 1.2408238e-08,\n",
       "        4.0466555e-05, 6.7924304e-08, 1.2471365e-06, 5.1728815e-08,\n",
       "        7.4544921e-08, 7.5376287e-05, 7.7503923e-05, 6.3388808e-07,\n",
       "        9.7734210e-07, 2.1904978e-05, 1.4960281e-05, 1.3907288e-07,\n",
       "        1.2163991e-05, 1.8947765e-02, 4.9717783e-05, 4.6009573e-06,\n",
       "        1.5113359e-07, 3.3705953e-07, 3.8720245e-09, 1.6406899e-07,\n",
       "        8.0740268e-05, 4.8965999e-06, 2.3974610e-07, 2.3283375e-05,\n",
       "        3.0886938e-04, 3.1090349e-05, 1.4112708e-09, 8.3762250e-05,\n",
       "        3.0842533e-03], dtype=float32),\n",
       " 101,\n",
       " np.float32(1.0000002))"
      ]
     },
     "execution_count": 32,
     "metadata": {},
     "output_type": "execute_result"
    }
   ],
   "source": [
    "# Shape of the arraat of the first prediction \n",
    "preds_probs[0], len(preds_probs[0]), sum(preds_probs[0])"
   ]
  },
  {
   "cell_type": "markdown",
   "metadata": {},
   "source": [
    "## Model Description \n",
    "\n",
    "The model outputs the prediction probability array (with) N number of variables , where N is the number of classes , for each sample , passed to the prediction model."
   ]
  },
  {
   "cell_type": "code",
   "execution_count": 33,
   "metadata": {},
   "outputs": [
    {
     "name": "stdout",
     "output_type": "stream",
     "text": [
      "Number of the prediction probability samples for 0 th sample : 101\n",
      "Sum of the prediction probability samples for 0 th sample : 1.000000238418579\n",
      "Max of the prediction probability samples for 0 th sample : 0.8477323055267334\n",
      "Index of the max prediction probability sample for 0 th sample : 52\n"
     ]
    }
   ],
   "source": [
    "# We get one prediction probability per class , in 101 classes dataset \n",
    "print(f\"Number of the prediction probability samples for 0 th sample : {len(preds_probs[0])}\")\n",
    "print(f\"Sum of the prediction probability samples for 0 th sample : {sum(preds_probs[0])}\")\n",
    "print(f\"Max of the prediction probability samples for 0 th sample : {np.max(preds_probs[0])}\")\n",
    "print(f\"Index of the max prediction probability sample for 0 th sample : {np.argmax(preds_probs[0])}\")\n",
    "\n"
   ]
  },
  {
   "cell_type": "code",
   "execution_count": 34,
   "metadata": {},
   "outputs": [
    {
     "data": {
      "text/plain": [
       "'gyoza'"
      ]
     },
     "execution_count": 34,
     "metadata": {},
     "output_type": "execute_result"
    }
   ],
   "source": [
    "test_data.class_names[52]"
   ]
  },
  {
   "cell_type": "code",
   "execution_count": 35,
   "metadata": {},
   "outputs": [
    {
     "data": {
      "text/plain": [
       "25250"
      ]
     },
     "execution_count": 35,
     "metadata": {},
     "output_type": "execute_result"
    }
   ],
   "source": [
    "# Get pred classes of each label \n",
    "\n",
    "pred_classes = preds_probs.argmax(axis = 1)\n",
    "\n",
    "# What are the predicted classes for the first 10 samples ?\n",
    "pred_classes[:10]\n",
    "len(pred_classes)"
   ]
  },
  {
   "cell_type": "markdown",
   "metadata": {},
   "source": [
    "To Evaluate the model predictions we need ot compare the labels\n"
   ]
  },
  {
   "cell_type": "code",
   "execution_count": 36,
   "metadata": {},
   "outputs": [
    {
     "name": "stderr",
     "output_type": "stream",
     "text": [
      "2025-03-06 21:56:21.983075: I tensorflow/core/framework/local_rendezvous.cc:405] Local rendezvous is aborting with status: OUT_OF_RANGE: End of sequence\n"
     ]
    }
   ],
   "source": [
    "# TO get the test labels , the test_data BatchDataset has ot be unbatched\n",
    "y_labels = []\n",
    "for images , labels in test_data.unbatch().as_numpy_iterator():\n",
    "    y_labels.append(labels.argmax())"
   ]
  },
  {
   "cell_type": "code",
   "execution_count": 37,
   "metadata": {},
   "outputs": [
    {
     "data": {
      "text/plain": [
       "<_PrefetchDataset element_spec=(TensorSpec(shape=(None, 224, 224, 3), dtype=tf.float32, name=None), TensorSpec(shape=(None, 101), dtype=tf.float32, name=None))>"
      ]
     },
     "execution_count": 37,
     "metadata": {},
     "output_type": "execute_result"
    }
   ],
   "source": [
    "test_data"
   ]
  },
  {
   "cell_type": "markdown",
   "metadata": {},
   "source": [
    "### Checking if the model's prediction array is in the same order as in the test data"
   ]
  },
  {
   "cell_type": "code",
   "execution_count": 38,
   "metadata": {},
   "outputs": [
    {
     "data": {
      "text/plain": [
       "[1.8021925687789917, 0.6078416109085083]"
      ]
     },
     "execution_count": 38,
     "metadata": {},
     "output_type": "execute_result"
    }
   ],
   "source": [
    "results_premade_model"
   ]
  },
  {
   "cell_type": "markdown",
   "metadata": {},
   "source": [
    "### Trying the Scikit- Learn Accuracy Score"
   ]
  },
  {
   "cell_type": "code",
   "execution_count": 39,
   "metadata": {},
   "outputs": [
    {
     "data": {
      "text/plain": [
       "0.6078415841584158"
      ]
     },
     "execution_count": 39,
     "metadata": {},
     "output_type": "execute_result"
    }
   ],
   "source": [
    "from sklearn.metrics import accuracy_score\n",
    "sklearn_accuracy = accuracy_score(y_labels, pred_classes)\n",
    "sklearn_accuracy"
   ]
  },
  {
   "cell_type": "markdown",
   "metadata": {},
   "source": [
    "### Does this metric come close to our model's evaluate results \n",
    "\n",
    " "
   ]
  },
  {
   "cell_type": "code",
   "execution_count": 40,
   "metadata": {},
   "outputs": [
    {
     "data": {
      "text/plain": [
       "np.True_"
      ]
     },
     "execution_count": 40,
     "metadata": {},
     "output_type": "execute_result"
    }
   ],
   "source": [
    "np.isclose(results_premade_model[1], sklearn_accuracy)"
   ]
  },
  {
   "cell_type": "markdown",
   "metadata": {},
   "source": [
    "## Making a confusion matrix for all the food data "
   ]
  },
  {
   "cell_type": "code",
   "execution_count": 42,
   "metadata": {},
   "outputs": [
    {
     "data": {
      "text/plain": [
       "['apple_pie',\n",
       " 'baby_back_ribs',\n",
       " 'baklava',\n",
       " 'beef_carpaccio',\n",
       " 'beef_tartare',\n",
       " 'beet_salad',\n",
       " 'beignets',\n",
       " 'bibimbap',\n",
       " 'bread_pudding',\n",
       " 'breakfast_burrito',\n",
       " 'bruschetta',\n",
       " 'caesar_salad',\n",
       " 'cannoli',\n",
       " 'caprese_salad',\n",
       " 'carrot_cake',\n",
       " 'ceviche',\n",
       " 'cheese_plate',\n",
       " 'cheesecake',\n",
       " 'chicken_curry',\n",
       " 'chicken_quesadilla',\n",
       " 'chicken_wings',\n",
       " 'chocolate_cake',\n",
       " 'chocolate_mousse',\n",
       " 'churros',\n",
       " 'clam_chowder',\n",
       " 'club_sandwich',\n",
       " 'crab_cakes',\n",
       " 'creme_brulee',\n",
       " 'croque_madame',\n",
       " 'cup_cakes',\n",
       " 'deviled_eggs',\n",
       " 'donuts',\n",
       " 'dumplings',\n",
       " 'edamame',\n",
       " 'eggs_benedict',\n",
       " 'escargots',\n",
       " 'falafel',\n",
       " 'filet_mignon',\n",
       " 'fish_and_chips',\n",
       " 'foie_gras',\n",
       " 'french_fries',\n",
       " 'french_onion_soup',\n",
       " 'french_toast',\n",
       " 'fried_calamari',\n",
       " 'fried_rice',\n",
       " 'frozen_yogurt',\n",
       " 'garlic_bread',\n",
       " 'gnocchi',\n",
       " 'greek_salad',\n",
       " 'grilled_cheese_sandwich',\n",
       " 'grilled_salmon',\n",
       " 'guacamole',\n",
       " 'gyoza',\n",
       " 'hamburger',\n",
       " 'hot_and_sour_soup',\n",
       " 'hot_dog',\n",
       " 'huevos_rancheros',\n",
       " 'hummus',\n",
       " 'ice_cream',\n",
       " 'lasagna',\n",
       " 'lobster_bisque',\n",
       " 'lobster_roll_sandwich',\n",
       " 'macaroni_and_cheese',\n",
       " 'macarons',\n",
       " 'miso_soup',\n",
       " 'mussels',\n",
       " 'nachos',\n",
       " 'omelette',\n",
       " 'onion_rings',\n",
       " 'oysters',\n",
       " 'pad_thai',\n",
       " 'paella',\n",
       " 'pancakes',\n",
       " 'panna_cotta',\n",
       " 'peking_duck',\n",
       " 'pho',\n",
       " 'pizza',\n",
       " 'pork_chop',\n",
       " 'poutine',\n",
       " 'prime_rib',\n",
       " 'pulled_pork_sandwich',\n",
       " 'ramen',\n",
       " 'ravioli',\n",
       " 'red_velvet_cake',\n",
       " 'risotto',\n",
       " 'samosa',\n",
       " 'sashimi',\n",
       " 'scallops',\n",
       " 'seaweed_salad',\n",
       " 'shrimp_and_grits',\n",
       " 'spaghetti_bolognese',\n",
       " 'spaghetti_carbonara',\n",
       " 'spring_rolls',\n",
       " 'steak',\n",
       " 'strawberry_shortcake',\n",
       " 'sushi',\n",
       " 'tacos',\n",
       " 'takoyaki',\n",
       " 'tiramisu',\n",
       " 'tuna_tartare',\n",
       " 'waffles']"
      ]
     },
     "execution_count": 42,
     "metadata": {},
     "output_type": "execute_result"
    }
   ],
   "source": [
    "class_names = test_data.class_names\n",
    "class_names"
   ]
  },
  {
   "cell_type": "markdown",
   "metadata": {},
   "source": [
    "make_confusion_matrix(y_true = y_labels,\n",
    "                      y_pred = pred_classes,\n",
    "                      classes = class_names,\n",
    "                      figsize = (50,50),\n",
    "                      text_size = 10)"
   ]
  },
  {
   "cell_type": "markdown",
   "metadata": {},
   "source": [
    "## Continuing the Evaluation \n",
    "\n",
    "- using the function from scikit-learn , precision , recall and f1\n",
    "- As the f1 is the combination of precision and recall , plotting the recall for the classes\n",
    "\n"
   ]
  },
  {
   "cell_type": "code",
   "execution_count": 43,
   "metadata": {},
   "outputs": [
    {
     "name": "stdout",
     "output_type": "stream",
     "text": [
      "                         precision    recall  f1-score   support\n",
      "\n",
      "              apple_pie       0.29      0.20      0.24       250\n",
      "         baby_back_ribs       0.51      0.69      0.59       250\n",
      "                baklava       0.56      0.65      0.60       250\n",
      "         beef_carpaccio       0.74      0.53      0.62       250\n",
      "           beef_tartare       0.73      0.44      0.55       250\n",
      "             beet_salad       0.34      0.54      0.42       250\n",
      "               beignets       0.67      0.79      0.72       250\n",
      "               bibimbap       0.82      0.76      0.79       250\n",
      "          bread_pudding       0.40      0.37      0.39       250\n",
      "      breakfast_burrito       0.62      0.44      0.51       250\n",
      "             bruschetta       0.62      0.42      0.50       250\n",
      "           caesar_salad       0.83      0.48      0.61       250\n",
      "                cannoli       0.52      0.74      0.61       250\n",
      "          caprese_salad       0.56      0.60      0.58       250\n",
      "            carrot_cake       0.56      0.59      0.57       250\n",
      "                ceviche       0.44      0.32      0.37       250\n",
      "           cheese_plate       0.45      0.75      0.57       250\n",
      "             cheesecake       0.37      0.51      0.43       250\n",
      "          chicken_curry       0.43      0.60      0.50       250\n",
      "     chicken_quesadilla       0.68      0.60      0.64       250\n",
      "          chicken_wings       0.68      0.75      0.71       250\n",
      "         chocolate_cake       0.35      0.64      0.45       250\n",
      "       chocolate_mousse       0.30      0.37      0.33       250\n",
      "                churros       0.66      0.77      0.71       250\n",
      "           clam_chowder       0.83      0.72      0.77       250\n",
      "          club_sandwich       0.75      0.71      0.73       250\n",
      "             crab_cakes       0.51      0.42      0.46       250\n",
      "           creme_brulee       0.78      0.72      0.75       250\n",
      "          croque_madame       0.70      0.69      0.69       250\n",
      "              cup_cakes       0.70      0.68      0.69       250\n",
      "           deviled_eggs       0.92      0.63      0.75       250\n",
      "                 donuts       0.78      0.70      0.74       250\n",
      "              dumplings       0.75      0.83      0.79       250\n",
      "                edamame       0.89      0.98      0.94       250\n",
      "          eggs_benedict       0.68      0.78      0.72       250\n",
      "              escargots       0.78      0.66      0.72       250\n",
      "                falafel       0.53      0.56      0.55       250\n",
      "           filet_mignon       0.30      0.55      0.39       250\n",
      "         fish_and_chips       0.78      0.63      0.69       250\n",
      "              foie_gras       0.27      0.33      0.30       250\n",
      "           french_fries       0.72      0.81      0.76       250\n",
      "      french_onion_soup       0.81      0.62      0.70       250\n",
      "           french_toast       0.50      0.58      0.54       250\n",
      "         fried_calamari       0.75      0.60      0.67       250\n",
      "             fried_rice       0.74      0.45      0.56       250\n",
      "          frozen_yogurt       0.77      0.85      0.81       250\n",
      "           garlic_bread       0.80      0.46      0.58       250\n",
      "                gnocchi       0.44      0.49      0.46       250\n",
      "            greek_salad       0.45      0.82      0.58       250\n",
      "grilled_cheese_sandwich       0.50      0.44      0.47       250\n",
      "         grilled_salmon       0.54      0.39      0.46       250\n",
      "              guacamole       0.71      0.86      0.78       250\n",
      "                  gyoza       0.51      0.77      0.61       250\n",
      "              hamburger       0.67      0.68      0.68       250\n",
      "      hot_and_sour_soup       0.88      0.75      0.81       250\n",
      "                hot_dog       0.86      0.69      0.76       250\n",
      "       huevos_rancheros       0.56      0.24      0.34       250\n",
      "                 hummus       0.62      0.45      0.52       250\n",
      "              ice_cream       0.68      0.58      0.62       250\n",
      "                lasagna       0.70      0.37      0.49       250\n",
      "         lobster_bisque       0.83      0.59      0.69       250\n",
      "  lobster_roll_sandwich       0.54      0.81      0.65       250\n",
      "    macaroni_and_cheese       0.72      0.49      0.58       250\n",
      "               macarons       0.94      0.86      0.90       250\n",
      "              miso_soup       0.78      0.85      0.81       250\n",
      "                mussels       0.82      0.82      0.82       250\n",
      "                 nachos       0.69      0.33      0.45       250\n",
      "               omelette       0.41      0.57      0.48       250\n",
      "            onion_rings       0.90      0.78      0.83       250\n",
      "                oysters       0.84      0.82      0.83       250\n",
      "               pad_thai       0.62      0.83      0.71       250\n",
      "                 paella       0.81      0.46      0.59       250\n",
      "               pancakes       0.64      0.65      0.65       250\n",
      "            panna_cotta       0.51      0.44      0.47       250\n",
      "            peking_duck       0.72      0.61      0.66       250\n",
      "                    pho       0.85      0.90      0.87       250\n",
      "                  pizza       0.78      0.79      0.78       250\n",
      "              pork_chop       0.36      0.27      0.31       250\n",
      "                poutine       0.79      0.74      0.76       250\n",
      "              prime_rib       0.44      0.81      0.57       250\n",
      "   pulled_pork_sandwich       0.58      0.60      0.59       250\n",
      "                  ramen       0.65      0.70      0.68       250\n",
      "                ravioli       0.38      0.31      0.34       250\n",
      "        red_velvet_cake       0.58      0.80      0.67       250\n",
      "                risotto       0.61      0.38      0.47       250\n",
      "                 samosa       0.44      0.74      0.55       250\n",
      "                sashimi       0.71      0.86      0.78       250\n",
      "               scallops       0.41      0.39      0.40       250\n",
      "          seaweed_salad       0.83      0.80      0.81       250\n",
      "       shrimp_and_grits       0.71      0.31      0.43       250\n",
      "    spaghetti_bolognese       0.92      0.69      0.79       250\n",
      "    spaghetti_carbonara       0.83      0.87      0.85       250\n",
      "           spring_rolls       0.68      0.65      0.67       250\n",
      "                  steak       0.31      0.38      0.34       250\n",
      "   strawberry_shortcake       0.61      0.54      0.57       250\n",
      "                  sushi       0.74      0.61      0.67       250\n",
      "                  tacos       0.56      0.29      0.38       250\n",
      "               takoyaki       0.45      0.74      0.56       250\n",
      "               tiramisu       0.47      0.33      0.38       250\n",
      "           tuna_tartare       0.52      0.27      0.35       250\n",
      "                waffles       0.59      0.70      0.64       250\n",
      "\n",
      "               accuracy                           0.61     25250\n",
      "              macro avg       0.63      0.61      0.61     25250\n",
      "           weighted avg       0.63      0.61      0.61     25250\n",
      "\n"
     ]
    }
   ],
   "source": [
    "from sklearn.metrics import classification_report\n",
    "print(classification_report(y_labels, pred_classes, target_names = class_names))"
   ]
  },
  {
   "cell_type": "code",
   "execution_count": 59,
   "metadata": {},
   "outputs": [
    {
     "data": {
      "text/plain": [
       "{'0': {'precision': 0.29310344827586204,\n",
       "  'recall': 0.204,\n",
       "  'f1-score': 0.24056603773584906,\n",
       "  'support': 250.0},\n",
       " '1': {'precision': 0.5088235294117647,\n",
       "  'recall': 0.692,\n",
       "  'f1-score': 0.5864406779661017,\n",
       "  'support': 250.0},\n",
       " '2': {'precision': 0.5625,\n",
       "  'recall': 0.648,\n",
       "  'f1-score': 0.6022304832713755,\n",
       "  'support': 250.0},\n",
       " '3': {'precision': 0.7415730337078652,\n",
       "  'recall': 0.528,\n",
       "  'f1-score': 0.616822429906542,\n",
       "  'support': 250.0},\n",
       " '4': {'precision': 0.7315436241610739,\n",
       "  'recall': 0.436,\n",
       "  'f1-score': 0.5463659147869674,\n",
       "  'support': 250.0},\n",
       " '5': {'precision': 0.3426395939086294,\n",
       "  'recall': 0.54,\n",
       "  'f1-score': 0.4192546583850932,\n",
       "  'support': 250.0},\n",
       " '6': {'precision': 0.6677966101694915,\n",
       "  'recall': 0.788,\n",
       "  'f1-score': 0.7229357798165138,\n",
       "  'support': 250.0},\n",
       " '7': {'precision': 0.8197424892703863,\n",
       "  'recall': 0.764,\n",
       "  'f1-score': 0.7908902691511387,\n",
       "  'support': 250.0},\n",
       " '8': {'precision': 0.4025974025974026,\n",
       "  'recall': 0.372,\n",
       "  'f1-score': 0.3866943866943867,\n",
       "  'support': 250.0},\n",
       " '9': {'precision': 0.6193181818181818,\n",
       "  'recall': 0.436,\n",
       "  'f1-score': 0.5117370892018779,\n",
       "  'support': 250.0},\n",
       " '10': {'precision': 0.6198830409356725,\n",
       "  'recall': 0.424,\n",
       "  'f1-score': 0.503562945368171,\n",
       "  'support': 250.0},\n",
       " '11': {'precision': 0.8344827586206897,\n",
       "  'recall': 0.484,\n",
       "  'f1-score': 0.6126582278481013,\n",
       "  'support': 250.0},\n",
       " '12': {'precision': 0.5240793201133145,\n",
       "  'recall': 0.74,\n",
       "  'f1-score': 0.6135986733001658,\n",
       "  'support': 250.0},\n",
       " '13': {'precision': 0.5601503759398496,\n",
       "  'recall': 0.596,\n",
       "  'f1-score': 0.5775193798449613,\n",
       "  'support': 250.0},\n",
       " '14': {'precision': 0.556390977443609,\n",
       "  'recall': 0.592,\n",
       "  'f1-score': 0.5736434108527132,\n",
       "  'support': 250.0},\n",
       " '15': {'precision': 0.4388888888888889,\n",
       "  'recall': 0.316,\n",
       "  'f1-score': 0.3674418604651163,\n",
       "  'support': 250.0},\n",
       " '16': {'precision': 0.4530120481927711,\n",
       "  'recall': 0.752,\n",
       "  'f1-score': 0.5654135338345865,\n",
       "  'support': 250.0},\n",
       " '17': {'precision': 0.3681159420289855,\n",
       "  'recall': 0.508,\n",
       "  'f1-score': 0.426890756302521,\n",
       "  'support': 250.0},\n",
       " '18': {'precision': 0.4318840579710145,\n",
       "  'recall': 0.596,\n",
       "  'f1-score': 0.5008403361344538,\n",
       "  'support': 250.0},\n",
       " '19': {'precision': 0.6832579185520362,\n",
       "  'recall': 0.604,\n",
       "  'f1-score': 0.6411889596602972,\n",
       "  'support': 250.0},\n",
       " '20': {'precision': 0.68,\n",
       "  'recall': 0.748,\n",
       "  'f1-score': 0.7123809523809523,\n",
       "  'support': 250.0},\n",
       " '21': {'precision': 0.3508771929824561,\n",
       "  'recall': 0.64,\n",
       "  'f1-score': 0.45325779036827196,\n",
       "  'support': 250.0},\n",
       " '22': {'precision': 0.2967741935483871,\n",
       "  'recall': 0.368,\n",
       "  'f1-score': 0.32857142857142857,\n",
       "  'support': 250.0},\n",
       " '23': {'precision': 0.6632302405498282,\n",
       "  'recall': 0.772,\n",
       "  'f1-score': 0.7134935304990758,\n",
       "  'support': 250.0},\n",
       " '24': {'precision': 0.8294930875576036,\n",
       "  'recall': 0.72,\n",
       "  'f1-score': 0.7708779443254818,\n",
       "  'support': 250.0},\n",
       " '25': {'precision': 0.7542372881355932,\n",
       "  'recall': 0.712,\n",
       "  'f1-score': 0.7325102880658436,\n",
       "  'support': 250.0},\n",
       " '26': {'precision': 0.5121951219512195,\n",
       "  'recall': 0.42,\n",
       "  'f1-score': 0.46153846153846156,\n",
       "  'support': 250.0},\n",
       " '27': {'precision': 0.776824034334764,\n",
       "  'recall': 0.724,\n",
       "  'f1-score': 0.7494824016563147,\n",
       "  'support': 250.0},\n",
       " '28': {'precision': 0.7020408163265306,\n",
       "  'recall': 0.688,\n",
       "  'f1-score': 0.694949494949495,\n",
       "  'support': 250.0},\n",
       " '29': {'precision': 0.7024793388429752,\n",
       "  'recall': 0.68,\n",
       "  'f1-score': 0.6910569105691057,\n",
       "  'support': 250.0},\n",
       " '30': {'precision': 0.9235294117647059,\n",
       "  'recall': 0.628,\n",
       "  'f1-score': 0.7476190476190476,\n",
       "  'support': 250.0},\n",
       " '31': {'precision': 0.7802690582959642,\n",
       "  'recall': 0.696,\n",
       "  'f1-score': 0.7357293868921776,\n",
       "  'support': 250.0},\n",
       " '32': {'precision': 0.7472924187725631,\n",
       "  'recall': 0.828,\n",
       "  'f1-score': 0.7855787476280834,\n",
       "  'support': 250.0},\n",
       " '33': {'precision': 0.8913043478260869,\n",
       "  'recall': 0.984,\n",
       "  'f1-score': 0.935361216730038,\n",
       "  'support': 250.0},\n",
       " '34': {'precision': 0.6783216783216783,\n",
       "  'recall': 0.776,\n",
       "  'f1-score': 0.7238805970149254,\n",
       "  'support': 250.0},\n",
       " '35': {'precision': 0.7819905213270142,\n",
       "  'recall': 0.66,\n",
       "  'f1-score': 0.7158351409978309,\n",
       "  'support': 250.0},\n",
       " '36': {'precision': 0.5340909090909091,\n",
       "  'recall': 0.564,\n",
       "  'f1-score': 0.5486381322957199,\n",
       "  'support': 250.0},\n",
       " '37': {'precision': 0.2984749455337691,\n",
       "  'recall': 0.548,\n",
       "  'f1-score': 0.38645980253878703,\n",
       "  'support': 250.0},\n",
       " '38': {'precision': 0.7772277227722773,\n",
       "  'recall': 0.628,\n",
       "  'f1-score': 0.6946902654867256,\n",
       "  'support': 250.0},\n",
       " '39': {'precision': 0.2703583061889251,\n",
       "  'recall': 0.332,\n",
       "  'f1-score': 0.2980251346499102,\n",
       "  'support': 250.0},\n",
       " '40': {'precision': 0.7214285714285714,\n",
       "  'recall': 0.808,\n",
       "  'f1-score': 0.7622641509433963,\n",
       "  'support': 250.0},\n",
       " '41': {'precision': 0.8105263157894737,\n",
       "  'recall': 0.616,\n",
       "  'f1-score': 0.7,\n",
       "  'support': 250.0},\n",
       " '42': {'precision': 0.503448275862069,\n",
       "  'recall': 0.584,\n",
       "  'f1-score': 0.5407407407407407,\n",
       "  'support': 250.0},\n",
       " '43': {'precision': 0.746268656716418,\n",
       "  'recall': 0.6,\n",
       "  'f1-score': 0.6651884700665188,\n",
       "  'support': 250.0},\n",
       " '44': {'precision': 0.7417218543046358,\n",
       "  'recall': 0.448,\n",
       "  'f1-score': 0.5586034912718204,\n",
       "  'support': 250.0},\n",
       " '45': {'precision': 0.7745454545454545,\n",
       "  'recall': 0.852,\n",
       "  'f1-score': 0.8114285714285714,\n",
       "  'support': 250.0},\n",
       " '46': {'precision': 0.8028169014084507,\n",
       "  'recall': 0.456,\n",
       "  'f1-score': 0.5816326530612245,\n",
       "  'support': 250.0},\n",
       " '47': {'precision': 0.4392857142857143,\n",
       "  'recall': 0.492,\n",
       "  'f1-score': 0.4641509433962264,\n",
       "  'support': 250.0},\n",
       " '48': {'precision': 0.44835164835164837,\n",
       "  'recall': 0.816,\n",
       "  'f1-score': 0.5787234042553191,\n",
       "  'support': 250.0},\n",
       " '49': {'precision': 0.502262443438914,\n",
       "  'recall': 0.444,\n",
       "  'f1-score': 0.4713375796178344,\n",
       "  'support': 250.0},\n",
       " '50': {'precision': 0.5444444444444444,\n",
       "  'recall': 0.392,\n",
       "  'f1-score': 0.4558139534883721,\n",
       "  'support': 250.0},\n",
       " '51': {'precision': 0.7081967213114754,\n",
       "  'recall': 0.864,\n",
       "  'f1-score': 0.7783783783783784,\n",
       "  'support': 250.0},\n",
       " '52': {'precision': 0.5092838196286472,\n",
       "  'recall': 0.768,\n",
       "  'f1-score': 0.6124401913875598,\n",
       "  'support': 250.0},\n",
       " '53': {'precision': 0.6719367588932806,\n",
       "  'recall': 0.68,\n",
       "  'f1-score': 0.6759443339960238,\n",
       "  'support': 250.0},\n",
       " '54': {'precision': 0.8785046728971962,\n",
       "  'recall': 0.752,\n",
       "  'f1-score': 0.8103448275862069,\n",
       "  'support': 250.0},\n",
       " '55': {'precision': 0.86,\n",
       "  'recall': 0.688,\n",
       "  'f1-score': 0.7644444444444445,\n",
       "  'support': 250.0},\n",
       " '56': {'precision': 0.5555555555555556,\n",
       "  'recall': 0.24,\n",
       "  'f1-score': 0.33519553072625696,\n",
       "  'support': 250.0},\n",
       " '57': {'precision': 0.6187845303867403,\n",
       "  'recall': 0.448,\n",
       "  'f1-score': 0.5197215777262181,\n",
       "  'support': 250.0},\n",
       " '58': {'precision': 0.6792452830188679,\n",
       "  'recall': 0.576,\n",
       "  'f1-score': 0.6233766233766234,\n",
       "  'support': 250.0},\n",
       " '59': {'precision': 0.7045454545454546,\n",
       "  'recall': 0.372,\n",
       "  'f1-score': 0.4869109947643979,\n",
       "  'support': 250.0},\n",
       " '60': {'precision': 0.8305084745762712,\n",
       "  'recall': 0.588,\n",
       "  'f1-score': 0.6885245901639344,\n",
       "  'support': 250.0},\n",
       " '61': {'precision': 0.543010752688172,\n",
       "  'recall': 0.808,\n",
       "  'f1-score': 0.6495176848874598,\n",
       "  'support': 250.0},\n",
       " '62': {'precision': 0.7218934911242604,\n",
       "  'recall': 0.488,\n",
       "  'f1-score': 0.5823389021479713,\n",
       "  'support': 250.0},\n",
       " '63': {'precision': 0.9385964912280702,\n",
       "  'recall': 0.856,\n",
       "  'f1-score': 0.895397489539749,\n",
       "  'support': 250.0},\n",
       " '64': {'precision': 0.7773722627737226,\n",
       "  'recall': 0.852,\n",
       "  'f1-score': 0.8129770992366412,\n",
       "  'support': 250.0},\n",
       " '65': {'precision': 0.82, 'recall': 0.82, 'f1-score': 0.82, 'support': 250.0},\n",
       " '66': {'precision': 0.6949152542372882,\n",
       "  'recall': 0.328,\n",
       "  'f1-score': 0.44565217391304346,\n",
       "  'support': 250.0},\n",
       " '67': {'precision': 0.4074074074074074,\n",
       "  'recall': 0.572,\n",
       "  'f1-score': 0.47587354409317806,\n",
       "  'support': 250.0},\n",
       " '68': {'precision': 0.8981481481481481,\n",
       "  'recall': 0.776,\n",
       "  'f1-score': 0.8326180257510729,\n",
       "  'support': 250.0},\n",
       " '69': {'precision': 0.8442622950819673,\n",
       "  'recall': 0.824,\n",
       "  'f1-score': 0.8340080971659919,\n",
       "  'support': 250.0},\n",
       " '70': {'precision': 0.6216216216216216,\n",
       "  'recall': 0.828,\n",
       "  'f1-score': 0.7101200686106347,\n",
       "  'support': 250.0},\n",
       " '71': {'precision': 0.8111888111888111,\n",
       "  'recall': 0.464,\n",
       "  'f1-score': 0.5903307888040712,\n",
       "  'support': 250.0},\n",
       " '72': {'precision': 0.6417322834645669,\n",
       "  'recall': 0.652,\n",
       "  'f1-score': 0.6468253968253969,\n",
       "  'support': 250.0},\n",
       " '73': {'precision': 0.5068493150684932,\n",
       "  'recall': 0.444,\n",
       "  'f1-score': 0.47334754797441364,\n",
       "  'support': 250.0},\n",
       " '74': {'precision': 0.7169811320754716,\n",
       "  'recall': 0.608,\n",
       "  'f1-score': 0.658008658008658,\n",
       "  'support': 250.0},\n",
       " '75': {'precision': 0.8452830188679246,\n",
       "  'recall': 0.896,\n",
       "  'f1-score': 0.8699029126213592,\n",
       "  'support': 250.0},\n",
       " '76': {'precision': 0.7786561264822134,\n",
       "  'recall': 0.788,\n",
       "  'f1-score': 0.7833001988071571,\n",
       "  'support': 250.0},\n",
       " '77': {'precision': 0.3641304347826087,\n",
       "  'recall': 0.268,\n",
       "  'f1-score': 0.3087557603686636,\n",
       "  'support': 250.0},\n",
       " '78': {'precision': 0.7863247863247863,\n",
       "  'recall': 0.736,\n",
       "  'f1-score': 0.7603305785123967,\n",
       "  'support': 250.0},\n",
       " '79': {'precision': 0.44130434782608696,\n",
       "  'recall': 0.812,\n",
       "  'f1-score': 0.571830985915493,\n",
       "  'support': 250.0},\n",
       " '80': {'precision': 0.5769230769230769,\n",
       "  'recall': 0.6,\n",
       "  'f1-score': 0.5882352941176471,\n",
       "  'support': 250.0},\n",
       " '81': {'precision': 0.654275092936803,\n",
       "  'recall': 0.704,\n",
       "  'f1-score': 0.6782273603082851,\n",
       "  'support': 250.0},\n",
       " '82': {'precision': 0.3804878048780488,\n",
       "  'recall': 0.312,\n",
       "  'f1-score': 0.34285714285714286,\n",
       "  'support': 250.0},\n",
       " '83': {'precision': 0.5763688760806917,\n",
       "  'recall': 0.8,\n",
       "  'f1-score': 0.6700167504187605,\n",
       "  'support': 250.0},\n",
       " '84': {'precision': 0.6103896103896104,\n",
       "  'recall': 0.376,\n",
       "  'f1-score': 0.46534653465346537,\n",
       "  'support': 250.0},\n",
       " '85': {'precision': 0.4423076923076923,\n",
       "  'recall': 0.736,\n",
       "  'f1-score': 0.5525525525525525,\n",
       "  'support': 250.0},\n",
       " '86': {'precision': 0.7128712871287128,\n",
       "  'recall': 0.864,\n",
       "  'f1-score': 0.7811934900542495,\n",
       "  'support': 250.0},\n",
       " '87': {'precision': 0.40756302521008403,\n",
       "  'recall': 0.388,\n",
       "  'f1-score': 0.3975409836065574,\n",
       "  'support': 250.0},\n",
       " '88': {'precision': 0.8298755186721992,\n",
       "  'recall': 0.8,\n",
       "  'f1-score': 0.814663951120163,\n",
       "  'support': 250.0},\n",
       " '89': {'precision': 0.7129629629629629,\n",
       "  'recall': 0.308,\n",
       "  'f1-score': 0.4301675977653631,\n",
       "  'support': 250.0},\n",
       " '90': {'precision': 0.9153439153439153,\n",
       "  'recall': 0.692,\n",
       "  'f1-score': 0.7881548974943052,\n",
       "  'support': 250.0},\n",
       " '91': {'precision': 0.8282442748091603,\n",
       "  'recall': 0.868,\n",
       "  'f1-score': 0.84765625,\n",
       "  'support': 250.0},\n",
       " '92': {'precision': 0.6835443037974683,\n",
       "  'recall': 0.648,\n",
       "  'f1-score': 0.6652977412731006,\n",
       "  'support': 250.0},\n",
       " '93': {'precision': 0.3114754098360656,\n",
       "  'recall': 0.38,\n",
       "  'f1-score': 0.34234234234234234,\n",
       "  'support': 250.0},\n",
       " '94': {'precision': 0.6118721461187214,\n",
       "  'recall': 0.536,\n",
       "  'f1-score': 0.5714285714285714,\n",
       "  'support': 250.0},\n",
       " '95': {'precision': 0.7427184466019418,\n",
       "  'recall': 0.612,\n",
       "  'f1-score': 0.6710526315789473,\n",
       "  'support': 250.0},\n",
       " '96': {'precision': 0.5625,\n",
       "  'recall': 0.288,\n",
       "  'f1-score': 0.38095238095238093,\n",
       "  'support': 250.0},\n",
       " '97': {'precision': 0.4547677261613692,\n",
       "  'recall': 0.744,\n",
       "  'f1-score': 0.5644916540212443,\n",
       "  'support': 250.0},\n",
       " '98': {'precision': 0.4659090909090909,\n",
       "  'recall': 0.328,\n",
       "  'f1-score': 0.38497652582159625,\n",
       "  'support': 250.0},\n",
       " '99': {'precision': 0.5193798449612403,\n",
       "  'recall': 0.268,\n",
       "  'f1-score': 0.35356200527704484,\n",
       "  'support': 250.0},\n",
       " '100': {'precision': 0.5912162162162162,\n",
       "  'recall': 0.7,\n",
       "  'f1-score': 0.6410256410256411,\n",
       "  'support': 250.0},\n",
       " 'accuracy': 0.6078415841584158,\n",
       " 'macro avg': {'precision': 0.632803264655017,\n",
       "  'recall': 0.6078415841584158,\n",
       "  'f1-score': 0.6061849123562119,\n",
       "  'support': 25250.0},\n",
       " 'weighted avg': {'precision': 0.6328032646550169,\n",
       "  'recall': 0.6078415841584158,\n",
       "  'f1-score': 0.6061849123562119,\n",
       "  'support': 25250.0}}"
      ]
     },
     "execution_count": 59,
     "metadata": {},
     "output_type": "execute_result"
    }
   ],
   "source": [
    "# Get a dictionary of the classification report\n",
    "classification_report_dict = classification_report(y_labels, pred_classes, output_dict=True)\n",
    "classification_report_dict"
   ]
  },
  {
   "cell_type": "code",
   "execution_count": 60,
   "metadata": {},
   "outputs": [
    {
     "data": {
      "text/plain": [
       "0.35356200527704484"
      ]
     },
     "execution_count": 60,
     "metadata": {},
     "output_type": "execute_result"
    }
   ],
   "source": [
    "classification_report_dict[\"99\"][\"f1-score\"]"
   ]
  },
  {
   "cell_type": "code",
   "execution_count": 61,
   "metadata": {},
   "outputs": [
    {
     "data": {
      "text/plain": [
       "{'apple_pie': 0.24056603773584906,\n",
       " 'baby_back_ribs': 0.5864406779661017,\n",
       " 'baklava': 0.6022304832713755,\n",
       " 'beef_carpaccio': 0.616822429906542,\n",
       " 'beef_tartare': 0.5463659147869674,\n",
       " 'beet_salad': 0.4192546583850932,\n",
       " 'beignets': 0.7229357798165138,\n",
       " 'bibimbap': 0.7908902691511387,\n",
       " 'bread_pudding': 0.3866943866943867,\n",
       " 'breakfast_burrito': 0.5117370892018779,\n",
       " 'bruschetta': 0.503562945368171,\n",
       " 'caesar_salad': 0.6126582278481013,\n",
       " 'cannoli': 0.6135986733001658,\n",
       " 'caprese_salad': 0.5775193798449613,\n",
       " 'carrot_cake': 0.5736434108527132,\n",
       " 'ceviche': 0.3674418604651163,\n",
       " 'cheese_plate': 0.5654135338345865,\n",
       " 'cheesecake': 0.426890756302521,\n",
       " 'chicken_curry': 0.5008403361344538,\n",
       " 'chicken_quesadilla': 0.6411889596602972,\n",
       " 'chicken_wings': 0.7123809523809523,\n",
       " 'chocolate_cake': 0.45325779036827196,\n",
       " 'chocolate_mousse': 0.32857142857142857,\n",
       " 'churros': 0.7134935304990758,\n",
       " 'clam_chowder': 0.7708779443254818,\n",
       " 'club_sandwich': 0.7325102880658436,\n",
       " 'crab_cakes': 0.46153846153846156,\n",
       " 'creme_brulee': 0.7494824016563147,\n",
       " 'croque_madame': 0.694949494949495,\n",
       " 'cup_cakes': 0.6910569105691057,\n",
       " 'deviled_eggs': 0.7476190476190476,\n",
       " 'donuts': 0.7357293868921776,\n",
       " 'dumplings': 0.7855787476280834,\n",
       " 'edamame': 0.935361216730038,\n",
       " 'eggs_benedict': 0.7238805970149254,\n",
       " 'escargots': 0.7158351409978309,\n",
       " 'falafel': 0.5486381322957199,\n",
       " 'filet_mignon': 0.38645980253878703,\n",
       " 'fish_and_chips': 0.6946902654867256,\n",
       " 'foie_gras': 0.2980251346499102,\n",
       " 'french_fries': 0.7622641509433963,\n",
       " 'french_onion_soup': 0.7,\n",
       " 'french_toast': 0.5407407407407407,\n",
       " 'fried_calamari': 0.6651884700665188,\n",
       " 'fried_rice': 0.5586034912718204,\n",
       " 'frozen_yogurt': 0.8114285714285714,\n",
       " 'garlic_bread': 0.5816326530612245,\n",
       " 'gnocchi': 0.4641509433962264,\n",
       " 'greek_salad': 0.5787234042553191,\n",
       " 'grilled_cheese_sandwich': 0.4713375796178344,\n",
       " 'grilled_salmon': 0.4558139534883721,\n",
       " 'guacamole': 0.7783783783783784,\n",
       " 'gyoza': 0.6124401913875598,\n",
       " 'hamburger': 0.6759443339960238,\n",
       " 'hot_and_sour_soup': 0.8103448275862069,\n",
       " 'hot_dog': 0.7644444444444445,\n",
       " 'huevos_rancheros': 0.33519553072625696,\n",
       " 'hummus': 0.5197215777262181,\n",
       " 'ice_cream': 0.6233766233766234,\n",
       " 'lasagna': 0.4869109947643979,\n",
       " 'lobster_bisque': 0.6885245901639344,\n",
       " 'lobster_roll_sandwich': 0.6495176848874598,\n",
       " 'macaroni_and_cheese': 0.5823389021479713,\n",
       " 'macarons': 0.895397489539749,\n",
       " 'miso_soup': 0.8129770992366412,\n",
       " 'mussels': 0.82,\n",
       " 'nachos': 0.44565217391304346,\n",
       " 'omelette': 0.47587354409317806,\n",
       " 'onion_rings': 0.8326180257510729,\n",
       " 'oysters': 0.8340080971659919,\n",
       " 'pad_thai': 0.7101200686106347,\n",
       " 'paella': 0.5903307888040712,\n",
       " 'pancakes': 0.6468253968253969,\n",
       " 'panna_cotta': 0.47334754797441364,\n",
       " 'peking_duck': 0.658008658008658,\n",
       " 'pho': 0.8699029126213592,\n",
       " 'pizza': 0.7833001988071571,\n",
       " 'pork_chop': 0.3087557603686636,\n",
       " 'poutine': 0.7603305785123967,\n",
       " 'prime_rib': 0.571830985915493,\n",
       " 'pulled_pork_sandwich': 0.5882352941176471,\n",
       " 'ramen': 0.6782273603082851,\n",
       " 'ravioli': 0.34285714285714286,\n",
       " 'red_velvet_cake': 0.6700167504187605,\n",
       " 'risotto': 0.46534653465346537,\n",
       " 'samosa': 0.5525525525525525,\n",
       " 'sashimi': 0.7811934900542495,\n",
       " 'scallops': 0.3975409836065574,\n",
       " 'seaweed_salad': 0.814663951120163,\n",
       " 'shrimp_and_grits': 0.4301675977653631,\n",
       " 'spaghetti_bolognese': 0.7881548974943052,\n",
       " 'spaghetti_carbonara': 0.84765625,\n",
       " 'spring_rolls': 0.6652977412731006,\n",
       " 'steak': 0.34234234234234234,\n",
       " 'strawberry_shortcake': 0.5714285714285714,\n",
       " 'sushi': 0.6710526315789473,\n",
       " 'tacos': 0.38095238095238093,\n",
       " 'takoyaki': 0.5644916540212443,\n",
       " 'tiramisu': 0.38497652582159625,\n",
       " 'tuna_tartare': 0.35356200527704484,\n",
       " 'waffles': 0.6410256410256411}"
      ]
     },
     "execution_count": 61,
     "metadata": {},
     "output_type": "execute_result"
    }
   ],
   "source": [
    "# Create empty dictionary\n",
    "class_f1_scores = {}\n",
    "# Loop through classification report dictionary items\n",
    "for k, v in classification_report_dict.items():\n",
    "  if k == \"accuracy\": # stop once we get to accuracy key\n",
    "    break\n",
    "  else:\n",
    "    # Add class names and f1-scores to new dictionary\n",
    "    class_f1_scores[class_names[int(k)]] = v[\"f1-score\"]\n",
    "class_f1_scores"
   ]
  },
  {
   "cell_type": "code",
   "execution_count": 62,
   "metadata": {},
   "outputs": [
    {
     "data": {
      "application/vnd.microsoft.datawrangler.viewer.v0+json": {
       "columns": [
        {
         "name": "index",
         "rawType": "int64",
         "type": "integer"
        },
        {
         "name": "class_names",
         "rawType": "object",
         "type": "string"
        },
        {
         "name": "f1-score",
         "rawType": "float64",
         "type": "float"
        }
       ],
       "conversionMethod": "pd.DataFrame",
       "ref": "02af1686-7935-4295-8884-30d0ba77b6ef",
       "rows": [
        [
         "33",
         "edamame",
         "0.935361216730038"
        ],
        [
         "63",
         "macarons",
         "0.895397489539749"
        ],
        [
         "75",
         "pho",
         "0.8699029126213592"
        ],
        [
         "91",
         "spaghetti_carbonara",
         "0.84765625"
        ],
        [
         "69",
         "oysters",
         "0.8340080971659919"
        ],
        [
         "68",
         "onion_rings",
         "0.8326180257510729"
        ],
        [
         "65",
         "mussels",
         "0.82"
        ],
        [
         "88",
         "seaweed_salad",
         "0.814663951120163"
        ],
        [
         "64",
         "miso_soup",
         "0.8129770992366412"
        ],
        [
         "45",
         "frozen_yogurt",
         "0.8114285714285714"
        ],
        [
         "54",
         "hot_and_sour_soup",
         "0.8103448275862069"
        ],
        [
         "7",
         "bibimbap",
         "0.7908902691511387"
        ],
        [
         "90",
         "spaghetti_bolognese",
         "0.7881548974943052"
        ],
        [
         "32",
         "dumplings",
         "0.7855787476280834"
        ],
        [
         "76",
         "pizza",
         "0.7833001988071571"
        ],
        [
         "86",
         "sashimi",
         "0.7811934900542495"
        ],
        [
         "51",
         "guacamole",
         "0.7783783783783784"
        ],
        [
         "24",
         "clam_chowder",
         "0.7708779443254818"
        ],
        [
         "55",
         "hot_dog",
         "0.7644444444444445"
        ],
        [
         "40",
         "french_fries",
         "0.7622641509433963"
        ],
        [
         "78",
         "poutine",
         "0.7603305785123967"
        ],
        [
         "27",
         "creme_brulee",
         "0.7494824016563147"
        ],
        [
         "30",
         "deviled_eggs",
         "0.7476190476190476"
        ],
        [
         "31",
         "donuts",
         "0.7357293868921776"
        ],
        [
         "25",
         "club_sandwich",
         "0.7325102880658436"
        ],
        [
         "34",
         "eggs_benedict",
         "0.7238805970149254"
        ],
        [
         "6",
         "beignets",
         "0.7229357798165138"
        ],
        [
         "35",
         "escargots",
         "0.7158351409978309"
        ],
        [
         "23",
         "churros",
         "0.7134935304990758"
        ],
        [
         "20",
         "chicken_wings",
         "0.7123809523809523"
        ],
        [
         "70",
         "pad_thai",
         "0.7101200686106347"
        ],
        [
         "41",
         "french_onion_soup",
         "0.7"
        ],
        [
         "28",
         "croque_madame",
         "0.694949494949495"
        ],
        [
         "38",
         "fish_and_chips",
         "0.6946902654867256"
        ],
        [
         "29",
         "cup_cakes",
         "0.6910569105691057"
        ],
        [
         "60",
         "lobster_bisque",
         "0.6885245901639344"
        ],
        [
         "81",
         "ramen",
         "0.6782273603082851"
        ],
        [
         "53",
         "hamburger",
         "0.6759443339960238"
        ],
        [
         "95",
         "sushi",
         "0.6710526315789473"
        ],
        [
         "83",
         "red_velvet_cake",
         "0.6700167504187605"
        ],
        [
         "92",
         "spring_rolls",
         "0.6652977412731006"
        ],
        [
         "43",
         "fried_calamari",
         "0.6651884700665188"
        ],
        [
         "74",
         "peking_duck",
         "0.658008658008658"
        ],
        [
         "61",
         "lobster_roll_sandwich",
         "0.6495176848874598"
        ],
        [
         "72",
         "pancakes",
         "0.6468253968253969"
        ],
        [
         "19",
         "chicken_quesadilla",
         "0.6411889596602972"
        ],
        [
         "100",
         "waffles",
         "0.6410256410256411"
        ],
        [
         "58",
         "ice_cream",
         "0.6233766233766234"
        ],
        [
         "3",
         "beef_carpaccio",
         "0.616822429906542"
        ],
        [
         "12",
         "cannoli",
         "0.6135986733001658"
        ]
       ],
       "shape": {
        "columns": 2,
        "rows": 101
       }
      },
      "text/html": [
       "<div>\n",
       "<style scoped>\n",
       "    .dataframe tbody tr th:only-of-type {\n",
       "        vertical-align: middle;\n",
       "    }\n",
       "\n",
       "    .dataframe tbody tr th {\n",
       "        vertical-align: top;\n",
       "    }\n",
       "\n",
       "    .dataframe thead th {\n",
       "        text-align: right;\n",
       "    }\n",
       "</style>\n",
       "<table border=\"1\" class=\"dataframe\">\n",
       "  <thead>\n",
       "    <tr style=\"text-align: right;\">\n",
       "      <th></th>\n",
       "      <th>class_names</th>\n",
       "      <th>f1-score</th>\n",
       "    </tr>\n",
       "  </thead>\n",
       "  <tbody>\n",
       "    <tr>\n",
       "      <th>33</th>\n",
       "      <td>edamame</td>\n",
       "      <td>0.935361</td>\n",
       "    </tr>\n",
       "    <tr>\n",
       "      <th>63</th>\n",
       "      <td>macarons</td>\n",
       "      <td>0.895397</td>\n",
       "    </tr>\n",
       "    <tr>\n",
       "      <th>75</th>\n",
       "      <td>pho</td>\n",
       "      <td>0.869903</td>\n",
       "    </tr>\n",
       "    <tr>\n",
       "      <th>91</th>\n",
       "      <td>spaghetti_carbonara</td>\n",
       "      <td>0.847656</td>\n",
       "    </tr>\n",
       "    <tr>\n",
       "      <th>69</th>\n",
       "      <td>oysters</td>\n",
       "      <td>0.834008</td>\n",
       "    </tr>\n",
       "    <tr>\n",
       "      <th>...</th>\n",
       "      <td>...</td>\n",
       "      <td>...</td>\n",
       "    </tr>\n",
       "    <tr>\n",
       "      <th>56</th>\n",
       "      <td>huevos_rancheros</td>\n",
       "      <td>0.335196</td>\n",
       "    </tr>\n",
       "    <tr>\n",
       "      <th>22</th>\n",
       "      <td>chocolate_mousse</td>\n",
       "      <td>0.328571</td>\n",
       "    </tr>\n",
       "    <tr>\n",
       "      <th>77</th>\n",
       "      <td>pork_chop</td>\n",
       "      <td>0.308756</td>\n",
       "    </tr>\n",
       "    <tr>\n",
       "      <th>39</th>\n",
       "      <td>foie_gras</td>\n",
       "      <td>0.298025</td>\n",
       "    </tr>\n",
       "    <tr>\n",
       "      <th>0</th>\n",
       "      <td>apple_pie</td>\n",
       "      <td>0.240566</td>\n",
       "    </tr>\n",
       "  </tbody>\n",
       "</table>\n",
       "<p>101 rows × 2 columns</p>\n",
       "</div>"
      ],
      "text/plain": [
       "            class_names  f1-score\n",
       "33              edamame  0.935361\n",
       "63             macarons  0.895397\n",
       "75                  pho  0.869903\n",
       "91  spaghetti_carbonara  0.847656\n",
       "69              oysters  0.834008\n",
       "..                  ...       ...\n",
       "56     huevos_rancheros  0.335196\n",
       "22     chocolate_mousse  0.328571\n",
       "77            pork_chop  0.308756\n",
       "39            foie_gras  0.298025\n",
       "0             apple_pie  0.240566\n",
       "\n",
       "[101 rows x 2 columns]"
      ]
     },
     "execution_count": 62,
     "metadata": {},
     "output_type": "execute_result"
    }
   ],
   "source": [
    "# tURN f1 SCORES INTO DATAFRAMES , FOR VISUALIZATION\n",
    "\n",
    "import pandas as pd \n",
    "\n",
    "f1_scores = pd.DataFrame({\"class_names\": list(class_f1_scores.keys()),\"f1-score\": list(class_f1_scores.values())}).sort_values(\"f1-score\", ascending = False)\n",
    "f1_scores"
   ]
  },
  {
   "cell_type": "code",
   "execution_count": 63,
   "metadata": {},
   "outputs": [
    {
     "name": "stderr",
     "output_type": "stream",
     "text": [
      "/tmp/ipykernel_8245/3758151624.py:4: FutureWarning: \n",
      "\n",
      "Passing `palette` without assigning `hue` is deprecated and will be removed in v0.14.0. Assign the `y` variable to `hue` and set `legend=False` for the same effect.\n",
      "\n",
      "  scores = sns.barplot(x = \"f1-score\", y = \"class_names\", data = f1_scores, palette = \"viridis\")\n"
     ]
    },
    {
     "data": {
      "image/png": "[encoded data removed]",
      "text/plain": [
       "<Figure size 1200x2500 with 1 Axes>"
      ]
     },
     "metadata": {},
     "output_type": "display_data"
    }
   ],
   "source": [
    "import matplotlib.pyplot as plt\n",
    "import seaborn as sns\n",
    "fig , ax = plt.subplots(figsize = (12,25))\n",
    "scores = sns.barplot(x = \"f1-score\", y = \"class_names\", data = f1_scores, palette = \"viridis\")"
   ]
  },
  {
   "cell_type": "code",
   "execution_count": null,
   "metadata": {},
   "outputs": [],
   "source": []
  }
 ],
 "metadata": {
  "kernelspec": {
   "display_name": "myenv",
   "language": "python",
   "name": "python3"
  },
  "language_info": {
   "codemirror_mode": {
    "name": "ipython",
    "version": 3
   },
   "file_extension": ".py",
   "mimetype": "text/x-python",
   "name": "python",
   "nbconvert_exporter": "python",
   "pygments_lexer": "ipython3",
   "version": "3.12.3"
  }
 },
 "nbformat": 4,
 "nbformat_minor": 2
}
