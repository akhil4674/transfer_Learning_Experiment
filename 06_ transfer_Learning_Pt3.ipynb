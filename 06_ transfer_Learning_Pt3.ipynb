{
 "cells": [
  {
   "cell_type": "markdown",
   "metadata": {},
   "source": [
    "# Transfer-Learning , Scaled Up models \n",
    "\n",
    "### Beating 50.76% Accuracy , accross all classes \n",
    "#### Mini Models : 101 classes of data with 10% input \n"
   ]
  },
  {
   "cell_type": "code",
   "execution_count": 8,
   "metadata": {},
   "outputs": [
    {
     "name": "stdout",
     "output_type": "stream",
     "text": [
      "CUDA Support: True\n",
      "GPU Available: [PhysicalDevice(name='/physical_device:GPU:0', device_type='GPU')]\n"
     ]
    }
   ],
   "source": [
    "import tensorflow as tf\n",
    "import keras\n",
    "from tensorflow.keras import mixed_precision\n",
    "mixed_precision.set_global_policy('mixed_float16')\n",
    "print(\"CUDA Support:\", tf.test.is_built_with_cuda())\n",
    "print(\"GPU Available:\", tf.config.list_physical_devices('GPU'))\n"
   ]
  },
  {
   "cell_type": "markdown",
   "metadata": {},
   "source": [
    "##### Import Helper Functions "
   ]
  },
  {
   "cell_type": "code",
   "execution_count": 1,
   "metadata": {},
   "outputs": [
    {
     "name": "stderr",
     "output_type": "stream",
     "text": [
      "2025-02-22 10:31:46.791407: E external/local_xla/xla/stream_executor/cuda/cuda_fft.cc:477] Unable to register cuFFT factory: Attempting to register factory for plugin cuFFT when one has already been registered\n",
      "WARNING: All log messages before absl::InitializeLog() is called are written to STDERR\n",
      "E0000 00:00:1740216706.856692  502346 cuda_dnn.cc:8310] Unable to register cuDNN factory: Attempting to register factory for plugin cuDNN when one has already been registered\n",
      "E0000 00:00:1740216706.874690  502346 cuda_blas.cc:1418] Unable to register cuBLAS factory: Attempting to register factory for plugin cuBLAS when one has already been registered\n",
      "2025-02-22 10:31:46.999909: I tensorflow/core/platform/cpu_feature_guard.cc:210] This TensorFlow binary is optimized to use available CPU instructions in performance-critical operations.\n",
      "To enable the following instructions: AVX2 FMA, in other operations, rebuild TensorFlow with the appropriate compiler flags.\n"
     ]
    }
   ],
   "source": [
    "from helper import *"
   ]
  },
  {
   "cell_type": "code",
   "execution_count": 2,
   "metadata": {},
   "outputs": [],
   "source": [
    "# 101 Classes of data \n",
    "train_dir = \"101_food_classes_10_percent/101_food_classes_10_percent/train\"\n",
    "test_dir = \"101_food_classes_10_percent/101_food_classes_10_percent/test\""
   ]
  },
  {
   "cell_type": "code",
   "execution_count": 3,
   "metadata": {},
   "outputs": [
    {
     "name": "stdout",
     "output_type": "stream",
     "text": [
      "There are 2 directories and 0 images in '/home/akhil/Documents/Tf_Local/101_food_classes_10_percent'.\n",
      "There are 1 directories and 1 images in '/home/akhil/Documents/Tf_Local/101_food_classes_10_percent/__MACOSX'.\n",
      "There are 1 directories and 2 images in '/home/akhil/Documents/Tf_Local/101_food_classes_10_percent/__MACOSX/101_food_classes_10_percent'.\n",
      "There are 0 directories and 34 images in '/home/akhil/Documents/Tf_Local/101_food_classes_10_percent/__MACOSX/101_food_classes_10_percent/test'.\n",
      "There are 2 directories and 0 images in '/home/akhil/Documents/Tf_Local/101_food_classes_10_percent/101_food_classes_10_percent'.\n",
      "There are 101 directories and 0 images in '/home/akhil/Documents/Tf_Local/101_food_classes_10_percent/101_food_classes_10_percent/test'.\n",
      "There are 0 directories and 250 images in '/home/akhil/Documents/Tf_Local/101_food_classes_10_percent/101_food_classes_10_percent/test/ramen'.\n",
      "There are 0 directories and 250 images in '/home/akhil/Documents/Tf_Local/101_food_classes_10_percent/101_food_classes_10_percent/test/beet_salad'.\n",
      "There are 0 directories and 250 images in '/home/akhil/Documents/Tf_Local/101_food_classes_10_percent/101_food_classes_10_percent/test/fish_and_chips'.\n",
      "There are 0 directories and 250 images in '/home/akhil/Documents/Tf_Local/101_food_classes_10_percent/101_food_classes_10_percent/test/eggs_benedict'.\n",
      "There are 0 directories and 250 images in '/home/akhil/Documents/Tf_Local/101_food_classes_10_percent/101_food_classes_10_percent/test/gyoza'.\n",
      "There are 0 directories and 250 images in '/home/akhil/Documents/Tf_Local/101_food_classes_10_percent/101_food_classes_10_percent/test/huevos_rancheros'.\n",
      "There are 0 directories and 250 images in '/home/akhil/Documents/Tf_Local/101_food_classes_10_percent/101_food_classes_10_percent/test/hot_dog'.\n",
      "There are 0 directories and 250 images in '/home/akhil/Documents/Tf_Local/101_food_classes_10_percent/101_food_classes_10_percent/test/apple_pie'.\n",
      "There are 0 directories and 250 images in '/home/akhil/Documents/Tf_Local/101_food_classes_10_percent/101_food_classes_10_percent/test/pancakes'.\n",
      "There are 0 directories and 250 images in '/home/akhil/Documents/Tf_Local/101_food_classes_10_percent/101_food_classes_10_percent/test/pork_chop'.\n",
      "There are 0 directories and 250 images in '/home/akhil/Documents/Tf_Local/101_food_classes_10_percent/101_food_classes_10_percent/test/miso_soup'.\n",
      "There are 0 directories and 250 images in '/home/akhil/Documents/Tf_Local/101_food_classes_10_percent/101_food_classes_10_percent/test/pizza'.\n",
      "There are 0 directories and 250 images in '/home/akhil/Documents/Tf_Local/101_food_classes_10_percent/101_food_classes_10_percent/test/grilled_cheese_sandwich'.\n",
      "There are 0 directories and 250 images in '/home/akhil/Documents/Tf_Local/101_food_classes_10_percent/101_food_classes_10_percent/test/bibimbap'.\n",
      "There are 0 directories and 250 images in '/home/akhil/Documents/Tf_Local/101_food_classes_10_percent/101_food_classes_10_percent/test/chocolate_mousse'.\n",
      "There are 0 directories and 250 images in '/home/akhil/Documents/Tf_Local/101_food_classes_10_percent/101_food_classes_10_percent/test/beef_tartare'.\n",
      "There are 0 directories and 250 images in '/home/akhil/Documents/Tf_Local/101_food_classes_10_percent/101_food_classes_10_percent/test/french_toast'.\n",
      "There are 0 directories and 250 images in '/home/akhil/Documents/Tf_Local/101_food_classes_10_percent/101_food_classes_10_percent/test/baklava'.\n",
      "There are 0 directories and 250 images in '/home/akhil/Documents/Tf_Local/101_food_classes_10_percent/101_food_classes_10_percent/test/strawberry_shortcake'.\n",
      "There are 0 directories and 250 images in '/home/akhil/Documents/Tf_Local/101_food_classes_10_percent/101_food_classes_10_percent/test/french_onion_soup'.\n",
      "There are 0 directories and 250 images in '/home/akhil/Documents/Tf_Local/101_food_classes_10_percent/101_food_classes_10_percent/test/cup_cakes'.\n",
      "There are 0 directories and 250 images in '/home/akhil/Documents/Tf_Local/101_food_classes_10_percent/101_food_classes_10_percent/test/seaweed_salad'.\n",
      "There are 0 directories and 250 images in '/home/akhil/Documents/Tf_Local/101_food_classes_10_percent/101_food_classes_10_percent/test/waffles'.\n",
      "There are 0 directories and 250 images in '/home/akhil/Documents/Tf_Local/101_food_classes_10_percent/101_food_classes_10_percent/test/edamame'.\n",
      "There are 0 directories and 250 images in '/home/akhil/Documents/Tf_Local/101_food_classes_10_percent/101_food_classes_10_percent/test/cheese_plate'.\n",
      "There are 0 directories and 250 images in '/home/akhil/Documents/Tf_Local/101_food_classes_10_percent/101_food_classes_10_percent/test/foie_gras'.\n",
      "There are 0 directories and 250 images in '/home/akhil/Documents/Tf_Local/101_food_classes_10_percent/101_food_classes_10_percent/test/clam_chowder'.\n",
      "There are 0 directories and 250 images in '/home/akhil/Documents/Tf_Local/101_food_classes_10_percent/101_food_classes_10_percent/test/breakfast_burrito'.\n",
      "There are 0 directories and 250 images in '/home/akhil/Documents/Tf_Local/101_food_classes_10_percent/101_food_classes_10_percent/test/cannoli'.\n",
      "There are 0 directories and 250 images in '/home/akhil/Documents/Tf_Local/101_food_classes_10_percent/101_food_classes_10_percent/test/grilled_salmon'.\n",
      "There are 0 directories and 250 images in '/home/akhil/Documents/Tf_Local/101_food_classes_10_percent/101_food_classes_10_percent/test/oysters'.\n",
      "There are 0 directories and 250 images in '/home/akhil/Documents/Tf_Local/101_food_classes_10_percent/101_food_classes_10_percent/test/spring_rolls'.\n",
      "There are 0 directories and 250 images in '/home/akhil/Documents/Tf_Local/101_food_classes_10_percent/101_food_classes_10_percent/test/panna_cotta'.\n",
      "There are 0 directories and 250 images in '/home/akhil/Documents/Tf_Local/101_food_classes_10_percent/101_food_classes_10_percent/test/lobster_bisque'.\n",
      "There are 0 directories and 250 images in '/home/akhil/Documents/Tf_Local/101_food_classes_10_percent/101_food_classes_10_percent/test/croque_madame'.\n",
      "There are 0 directories and 250 images in '/home/akhil/Documents/Tf_Local/101_food_classes_10_percent/101_food_classes_10_percent/test/fried_calamari'.\n",
      "There are 0 directories and 250 images in '/home/akhil/Documents/Tf_Local/101_food_classes_10_percent/101_food_classes_10_percent/test/lobster_roll_sandwich'.\n",
      "There are 0 directories and 250 images in '/home/akhil/Documents/Tf_Local/101_food_classes_10_percent/101_food_classes_10_percent/test/greek_salad'.\n",
      "There are 0 directories and 250 images in '/home/akhil/Documents/Tf_Local/101_food_classes_10_percent/101_food_classes_10_percent/test/carrot_cake'.\n",
      "There are 0 directories and 250 images in '/home/akhil/Documents/Tf_Local/101_food_classes_10_percent/101_food_classes_10_percent/test/prime_rib'.\n",
      "There are 0 directories and 250 images in '/home/akhil/Documents/Tf_Local/101_food_classes_10_percent/101_food_classes_10_percent/test/caprese_salad'.\n",
      "There are 0 directories and 250 images in '/home/akhil/Documents/Tf_Local/101_food_classes_10_percent/101_food_classes_10_percent/test/lasagna'.\n",
      "There are 0 directories and 250 images in '/home/akhil/Documents/Tf_Local/101_food_classes_10_percent/101_food_classes_10_percent/test/dumplings'.\n",
      "There are 0 directories and 250 images in '/home/akhil/Documents/Tf_Local/101_food_classes_10_percent/101_food_classes_10_percent/test/gnocchi'.\n",
      "There are 0 directories and 250 images in '/home/akhil/Documents/Tf_Local/101_food_classes_10_percent/101_food_classes_10_percent/test/macaroni_and_cheese'.\n",
      "There are 0 directories and 250 images in '/home/akhil/Documents/Tf_Local/101_food_classes_10_percent/101_food_classes_10_percent/test/ravioli'.\n",
      "There are 0 directories and 250 images in '/home/akhil/Documents/Tf_Local/101_food_classes_10_percent/101_food_classes_10_percent/test/hamburger'.\n",
      "There are 0 directories and 250 images in '/home/akhil/Documents/Tf_Local/101_food_classes_10_percent/101_food_classes_10_percent/test/peking_duck'.\n",
      "There are 0 directories and 250 images in '/home/akhil/Documents/Tf_Local/101_food_classes_10_percent/101_food_classes_10_percent/test/deviled_eggs'.\n",
      "There are 0 directories and 250 images in '/home/akhil/Documents/Tf_Local/101_food_classes_10_percent/101_food_classes_10_percent/test/shrimp_and_grits'.\n",
      "There are 0 directories and 250 images in '/home/akhil/Documents/Tf_Local/101_food_classes_10_percent/101_food_classes_10_percent/test/garlic_bread'.\n",
      "There are 0 directories and 250 images in '/home/akhil/Documents/Tf_Local/101_food_classes_10_percent/101_food_classes_10_percent/test/spaghetti_carbonara'.\n",
      "There are 0 directories and 250 images in '/home/akhil/Documents/Tf_Local/101_food_classes_10_percent/101_food_classes_10_percent/test/hot_and_sour_soup'.\n",
      "There are 0 directories and 250 images in '/home/akhil/Documents/Tf_Local/101_food_classes_10_percent/101_food_classes_10_percent/test/poutine'.\n",
      "There are 0 directories and 250 images in '/home/akhil/Documents/Tf_Local/101_food_classes_10_percent/101_food_classes_10_percent/test/crab_cakes'.\n",
      "There are 0 directories and 250 images in '/home/akhil/Documents/Tf_Local/101_food_classes_10_percent/101_food_classes_10_percent/test/red_velvet_cake'.\n",
      "There are 0 directories and 250 images in '/home/akhil/Documents/Tf_Local/101_food_classes_10_percent/101_food_classes_10_percent/test/chocolate_cake'.\n",
      "There are 0 directories and 250 images in '/home/akhil/Documents/Tf_Local/101_food_classes_10_percent/101_food_classes_10_percent/test/beignets'.\n",
      "There are 0 directories and 250 images in '/home/akhil/Documents/Tf_Local/101_food_classes_10_percent/101_food_classes_10_percent/test/mussels'.\n",
      "There are 0 directories and 250 images in '/home/akhil/Documents/Tf_Local/101_food_classes_10_percent/101_food_classes_10_percent/test/french_fries'.\n",
      "There are 0 directories and 250 images in '/home/akhil/Documents/Tf_Local/101_food_classes_10_percent/101_food_classes_10_percent/test/tuna_tartare'.\n",
      "There are 0 directories and 250 images in '/home/akhil/Documents/Tf_Local/101_food_classes_10_percent/101_food_classes_10_percent/test/sushi'.\n",
      "There are 0 directories and 250 images in '/home/akhil/Documents/Tf_Local/101_food_classes_10_percent/101_food_classes_10_percent/test/chicken_curry'.\n",
      "There are 0 directories and 250 images in '/home/akhil/Documents/Tf_Local/101_food_classes_10_percent/101_food_classes_10_percent/test/steak'.\n",
      "There are 0 directories and 250 images in '/home/akhil/Documents/Tf_Local/101_food_classes_10_percent/101_food_classes_10_percent/test/donuts'.\n",
      "There are 0 directories and 250 images in '/home/akhil/Documents/Tf_Local/101_food_classes_10_percent/101_food_classes_10_percent/test/macarons'.\n",
      "There are 0 directories and 250 images in '/home/akhil/Documents/Tf_Local/101_food_classes_10_percent/101_food_classes_10_percent/test/pad_thai'.\n",
      "There are 0 directories and 250 images in '/home/akhil/Documents/Tf_Local/101_food_classes_10_percent/101_food_classes_10_percent/test/nachos'.\n",
      "There are 0 directories and 250 images in '/home/akhil/Documents/Tf_Local/101_food_classes_10_percent/101_food_classes_10_percent/test/tiramisu'.\n",
      "There are 0 directories and 250 images in '/home/akhil/Documents/Tf_Local/101_food_classes_10_percent/101_food_classes_10_percent/test/beef_carpaccio'.\n",
      "There are 0 directories and 250 images in '/home/akhil/Documents/Tf_Local/101_food_classes_10_percent/101_food_classes_10_percent/test/filet_mignon'.\n",
      "There are 0 directories and 250 images in '/home/akhil/Documents/Tf_Local/101_food_classes_10_percent/101_food_classes_10_percent/test/guacamole'.\n",
      "There are 0 directories and 250 images in '/home/akhil/Documents/Tf_Local/101_food_classes_10_percent/101_food_classes_10_percent/test/scallops'.\n",
      "There are 0 directories and 250 images in '/home/akhil/Documents/Tf_Local/101_food_classes_10_percent/101_food_classes_10_percent/test/samosa'.\n",
      "There are 0 directories and 250 images in '/home/akhil/Documents/Tf_Local/101_food_classes_10_percent/101_food_classes_10_percent/test/frozen_yogurt'.\n",
      "There are 0 directories and 250 images in '/home/akhil/Documents/Tf_Local/101_food_classes_10_percent/101_food_classes_10_percent/test/bruschetta'.\n",
      "There are 0 directories and 250 images in '/home/akhil/Documents/Tf_Local/101_food_classes_10_percent/101_food_classes_10_percent/test/churros'.\n",
      "There are 0 directories and 250 images in '/home/akhil/Documents/Tf_Local/101_food_classes_10_percent/101_food_classes_10_percent/test/risotto'.\n",
      "There are 0 directories and 250 images in '/home/akhil/Documents/Tf_Local/101_food_classes_10_percent/101_food_classes_10_percent/test/chicken_wings'.\n",
      "There are 0 directories and 250 images in '/home/akhil/Documents/Tf_Local/101_food_classes_10_percent/101_food_classes_10_percent/test/creme_brulee'.\n",
      "There are 0 directories and 250 images in '/home/akhil/Documents/Tf_Local/101_food_classes_10_percent/101_food_classes_10_percent/test/ceviche'.\n",
      "There are 0 directories and 250 images in '/home/akhil/Documents/Tf_Local/101_food_classes_10_percent/101_food_classes_10_percent/test/ice_cream'.\n",
      "There are 0 directories and 250 images in '/home/akhil/Documents/Tf_Local/101_food_classes_10_percent/101_food_classes_10_percent/test/fried_rice'.\n",
      "There are 0 directories and 250 images in '/home/akhil/Documents/Tf_Local/101_food_classes_10_percent/101_food_classes_10_percent/test/onion_rings'.\n",
      "There are 0 directories and 250 images in '/home/akhil/Documents/Tf_Local/101_food_classes_10_percent/101_food_classes_10_percent/test/pho'.\n",
      "There are 0 directories and 250 images in '/home/akhil/Documents/Tf_Local/101_food_classes_10_percent/101_food_classes_10_percent/test/tacos'.\n",
      "There are 0 directories and 250 images in '/home/akhil/Documents/Tf_Local/101_food_classes_10_percent/101_food_classes_10_percent/test/chicken_quesadilla'.\n",
      "There are 0 directories and 250 images in '/home/akhil/Documents/Tf_Local/101_food_classes_10_percent/101_food_classes_10_percent/test/cheesecake'.\n",
      "There are 0 directories and 250 images in '/home/akhil/Documents/Tf_Local/101_food_classes_10_percent/101_food_classes_10_percent/test/pulled_pork_sandwich'.\n",
      "There are 0 directories and 250 images in '/home/akhil/Documents/Tf_Local/101_food_classes_10_percent/101_food_classes_10_percent/test/club_sandwich'.\n",
      "There are 0 directories and 250 images in '/home/akhil/Documents/Tf_Local/101_food_classes_10_percent/101_food_classes_10_percent/test/baby_back_ribs'.\n",
      "There are 0 directories and 250 images in '/home/akhil/Documents/Tf_Local/101_food_classes_10_percent/101_food_classes_10_percent/test/spaghetti_bolognese'.\n",
      "There are 0 directories and 250 images in '/home/akhil/Documents/Tf_Local/101_food_classes_10_percent/101_food_classes_10_percent/test/bread_pudding'.\n",
      "There are 0 directories and 250 images in '/home/akhil/Documents/Tf_Local/101_food_classes_10_percent/101_food_classes_10_percent/test/omelette'.\n",
      "There are 0 directories and 250 images in '/home/akhil/Documents/Tf_Local/101_food_classes_10_percent/101_food_classes_10_percent/test/takoyaki'.\n",
      "There are 0 directories and 250 images in '/home/akhil/Documents/Tf_Local/101_food_classes_10_percent/101_food_classes_10_percent/test/paella'.\n",
      "There are 0 directories and 250 images in '/home/akhil/Documents/Tf_Local/101_food_classes_10_percent/101_food_classes_10_percent/test/escargots'.\n",
      "There are 0 directories and 250 images in '/home/akhil/Documents/Tf_Local/101_food_classes_10_percent/101_food_classes_10_percent/test/hummus'.\n",
      "There are 0 directories and 250 images in '/home/akhil/Documents/Tf_Local/101_food_classes_10_percent/101_food_classes_10_percent/test/falafel'.\n",
      "There are 0 directories and 250 images in '/home/akhil/Documents/Tf_Local/101_food_classes_10_percent/101_food_classes_10_percent/test/caesar_salad'.\n",
      "There are 0 directories and 250 images in '/home/akhil/Documents/Tf_Local/101_food_classes_10_percent/101_food_classes_10_percent/test/sashimi'.\n",
      "There are 101 directories and 0 images in '/home/akhil/Documents/Tf_Local/101_food_classes_10_percent/101_food_classes_10_percent/train'.\n",
      "There are 0 directories and 75 images in '/home/akhil/Documents/Tf_Local/101_food_classes_10_percent/101_food_classes_10_percent/train/ramen'.\n",
      "There are 0 directories and 75 images in '/home/akhil/Documents/Tf_Local/101_food_classes_10_percent/101_food_classes_10_percent/train/beet_salad'.\n",
      "There are 0 directories and 75 images in '/home/akhil/Documents/Tf_Local/101_food_classes_10_percent/101_food_classes_10_percent/train/fish_and_chips'.\n",
      "There are 0 directories and 75 images in '/home/akhil/Documents/Tf_Local/101_food_classes_10_percent/101_food_classes_10_percent/train/eggs_benedict'.\n",
      "There are 0 directories and 75 images in '/home/akhil/Documents/Tf_Local/101_food_classes_10_percent/101_food_classes_10_percent/train/gyoza'.\n",
      "There are 0 directories and 75 images in '/home/akhil/Documents/Tf_Local/101_food_classes_10_percent/101_food_classes_10_percent/train/huevos_rancheros'.\n",
      "There are 0 directories and 75 images in '/home/akhil/Documents/Tf_Local/101_food_classes_10_percent/101_food_classes_10_percent/train/hot_dog'.\n",
      "There are 0 directories and 75 images in '/home/akhil/Documents/Tf_Local/101_food_classes_10_percent/101_food_classes_10_percent/train/apple_pie'.\n",
      "There are 0 directories and 75 images in '/home/akhil/Documents/Tf_Local/101_food_classes_10_percent/101_food_classes_10_percent/train/pancakes'.\n",
      "There are 0 directories and 75 images in '/home/akhil/Documents/Tf_Local/101_food_classes_10_percent/101_food_classes_10_percent/train/pork_chop'.\n",
      "There are 0 directories and 75 images in '/home/akhil/Documents/Tf_Local/101_food_classes_10_percent/101_food_classes_10_percent/train/miso_soup'.\n",
      "There are 0 directories and 75 images in '/home/akhil/Documents/Tf_Local/101_food_classes_10_percent/101_food_classes_10_percent/train/pizza'.\n",
      "There are 0 directories and 75 images in '/home/akhil/Documents/Tf_Local/101_food_classes_10_percent/101_food_classes_10_percent/train/grilled_cheese_sandwich'.\n",
      "There are 0 directories and 75 images in '/home/akhil/Documents/Tf_Local/101_food_classes_10_percent/101_food_classes_10_percent/train/bibimbap'.\n",
      "There are 0 directories and 75 images in '/home/akhil/Documents/Tf_Local/101_food_classes_10_percent/101_food_classes_10_percent/train/chocolate_mousse'.\n",
      "There are 0 directories and 75 images in '/home/akhil/Documents/Tf_Local/101_food_classes_10_percent/101_food_classes_10_percent/train/beef_tartare'.\n",
      "There are 0 directories and 75 images in '/home/akhil/Documents/Tf_Local/101_food_classes_10_percent/101_food_classes_10_percent/train/french_toast'.\n",
      "There are 0 directories and 75 images in '/home/akhil/Documents/Tf_Local/101_food_classes_10_percent/101_food_classes_10_percent/train/baklava'.\n",
      "There are 0 directories and 75 images in '/home/akhil/Documents/Tf_Local/101_food_classes_10_percent/101_food_classes_10_percent/train/strawberry_shortcake'.\n",
      "There are 0 directories and 75 images in '/home/akhil/Documents/Tf_Local/101_food_classes_10_percent/101_food_classes_10_percent/train/french_onion_soup'.\n",
      "There are 0 directories and 75 images in '/home/akhil/Documents/Tf_Local/101_food_classes_10_percent/101_food_classes_10_percent/train/cup_cakes'.\n",
      "There are 0 directories and 75 images in '/home/akhil/Documents/Tf_Local/101_food_classes_10_percent/101_food_classes_10_percent/train/seaweed_salad'.\n",
      "There are 0 directories and 75 images in '/home/akhil/Documents/Tf_Local/101_food_classes_10_percent/101_food_classes_10_percent/train/waffles'.\n",
      "There are 0 directories and 75 images in '/home/akhil/Documents/Tf_Local/101_food_classes_10_percent/101_food_classes_10_percent/train/edamame'.\n",
      "There are 0 directories and 75 images in '/home/akhil/Documents/Tf_Local/101_food_classes_10_percent/101_food_classes_10_percent/train/cheese_plate'.\n",
      "There are 0 directories and 75 images in '/home/akhil/Documents/Tf_Local/101_food_classes_10_percent/101_food_classes_10_percent/train/foie_gras'.\n",
      "There are 0 directories and 75 images in '/home/akhil/Documents/Tf_Local/101_food_classes_10_percent/101_food_classes_10_percent/train/clam_chowder'.\n",
      "There are 0 directories and 75 images in '/home/akhil/Documents/Tf_Local/101_food_classes_10_percent/101_food_classes_10_percent/train/breakfast_burrito'.\n",
      "There are 0 directories and 75 images in '/home/akhil/Documents/Tf_Local/101_food_classes_10_percent/101_food_classes_10_percent/train/cannoli'.\n",
      "There are 0 directories and 75 images in '/home/akhil/Documents/Tf_Local/101_food_classes_10_percent/101_food_classes_10_percent/train/grilled_salmon'.\n",
      "There are 0 directories and 75 images in '/home/akhil/Documents/Tf_Local/101_food_classes_10_percent/101_food_classes_10_percent/train/oysters'.\n",
      "There are 0 directories and 75 images in '/home/akhil/Documents/Tf_Local/101_food_classes_10_percent/101_food_classes_10_percent/train/spring_rolls'.\n",
      "There are 0 directories and 75 images in '/home/akhil/Documents/Tf_Local/101_food_classes_10_percent/101_food_classes_10_percent/train/panna_cotta'.\n",
      "There are 0 directories and 75 images in '/home/akhil/Documents/Tf_Local/101_food_classes_10_percent/101_food_classes_10_percent/train/lobster_bisque'.\n",
      "There are 0 directories and 75 images in '/home/akhil/Documents/Tf_Local/101_food_classes_10_percent/101_food_classes_10_percent/train/croque_madame'.\n",
      "There are 0 directories and 75 images in '/home/akhil/Documents/Tf_Local/101_food_classes_10_percent/101_food_classes_10_percent/train/fried_calamari'.\n",
      "There are 0 directories and 75 images in '/home/akhil/Documents/Tf_Local/101_food_classes_10_percent/101_food_classes_10_percent/train/lobster_roll_sandwich'.\n",
      "There are 0 directories and 75 images in '/home/akhil/Documents/Tf_Local/101_food_classes_10_percent/101_food_classes_10_percent/train/greek_salad'.\n",
      "There are 0 directories and 75 images in '/home/akhil/Documents/Tf_Local/101_food_classes_10_percent/101_food_classes_10_percent/train/carrot_cake'.\n",
      "There are 0 directories and 75 images in '/home/akhil/Documents/Tf_Local/101_food_classes_10_percent/101_food_classes_10_percent/train/prime_rib'.\n",
      "There are 0 directories and 75 images in '/home/akhil/Documents/Tf_Local/101_food_classes_10_percent/101_food_classes_10_percent/train/caprese_salad'.\n",
      "There are 0 directories and 75 images in '/home/akhil/Documents/Tf_Local/101_food_classes_10_percent/101_food_classes_10_percent/train/lasagna'.\n",
      "There are 0 directories and 75 images in '/home/akhil/Documents/Tf_Local/101_food_classes_10_percent/101_food_classes_10_percent/train/dumplings'.\n",
      "There are 0 directories and 75 images in '/home/akhil/Documents/Tf_Local/101_food_classes_10_percent/101_food_classes_10_percent/train/gnocchi'.\n",
      "There are 0 directories and 75 images in '/home/akhil/Documents/Tf_Local/101_food_classes_10_percent/101_food_classes_10_percent/train/macaroni_and_cheese'.\n",
      "There are 0 directories and 75 images in '/home/akhil/Documents/Tf_Local/101_food_classes_10_percent/101_food_classes_10_percent/train/ravioli'.\n",
      "There are 0 directories and 75 images in '/home/akhil/Documents/Tf_Local/101_food_classes_10_percent/101_food_classes_10_percent/train/hamburger'.\n",
      "There are 0 directories and 75 images in '/home/akhil/Documents/Tf_Local/101_food_classes_10_percent/101_food_classes_10_percent/train/peking_duck'.\n",
      "There are 0 directories and 75 images in '/home/akhil/Documents/Tf_Local/101_food_classes_10_percent/101_food_classes_10_percent/train/deviled_eggs'.\n",
      "There are 0 directories and 75 images in '/home/akhil/Documents/Tf_Local/101_food_classes_10_percent/101_food_classes_10_percent/train/shrimp_and_grits'.\n",
      "There are 0 directories and 75 images in '/home/akhil/Documents/Tf_Local/101_food_classes_10_percent/101_food_classes_10_percent/train/garlic_bread'.\n",
      "There are 0 directories and 75 images in '/home/akhil/Documents/Tf_Local/101_food_classes_10_percent/101_food_classes_10_percent/train/spaghetti_carbonara'.\n",
      "There are 0 directories and 75 images in '/home/akhil/Documents/Tf_Local/101_food_classes_10_percent/101_food_classes_10_percent/train/hot_and_sour_soup'.\n",
      "There are 0 directories and 75 images in '/home/akhil/Documents/Tf_Local/101_food_classes_10_percent/101_food_classes_10_percent/train/poutine'.\n",
      "There are 0 directories and 75 images in '/home/akhil/Documents/Tf_Local/101_food_classes_10_percent/101_food_classes_10_percent/train/crab_cakes'.\n",
      "There are 0 directories and 75 images in '/home/akhil/Documents/Tf_Local/101_food_classes_10_percent/101_food_classes_10_percent/train/red_velvet_cake'.\n",
      "There are 0 directories and 75 images in '/home/akhil/Documents/Tf_Local/101_food_classes_10_percent/101_food_classes_10_percent/train/chocolate_cake'.\n",
      "There are 0 directories and 75 images in '/home/akhil/Documents/Tf_Local/101_food_classes_10_percent/101_food_classes_10_percent/train/beignets'.\n",
      "There are 0 directories and 75 images in '/home/akhil/Documents/Tf_Local/101_food_classes_10_percent/101_food_classes_10_percent/train/mussels'.\n",
      "There are 0 directories and 75 images in '/home/akhil/Documents/Tf_Local/101_food_classes_10_percent/101_food_classes_10_percent/train/french_fries'.\n",
      "There are 0 directories and 75 images in '/home/akhil/Documents/Tf_Local/101_food_classes_10_percent/101_food_classes_10_percent/train/tuna_tartare'.\n",
      "There are 0 directories and 75 images in '/home/akhil/Documents/Tf_Local/101_food_classes_10_percent/101_food_classes_10_percent/train/sushi'.\n",
      "There are 0 directories and 75 images in '/home/akhil/Documents/Tf_Local/101_food_classes_10_percent/101_food_classes_10_percent/train/chicken_curry'.\n",
      "There are 0 directories and 75 images in '/home/akhil/Documents/Tf_Local/101_food_classes_10_percent/101_food_classes_10_percent/train/steak'.\n",
      "There are 0 directories and 75 images in '/home/akhil/Documents/Tf_Local/101_food_classes_10_percent/101_food_classes_10_percent/train/donuts'.\n",
      "There are 0 directories and 75 images in '/home/akhil/Documents/Tf_Local/101_food_classes_10_percent/101_food_classes_10_percent/train/macarons'.\n",
      "There are 0 directories and 75 images in '/home/akhil/Documents/Tf_Local/101_food_classes_10_percent/101_food_classes_10_percent/train/pad_thai'.\n",
      "There are 0 directories and 75 images in '/home/akhil/Documents/Tf_Local/101_food_classes_10_percent/101_food_classes_10_percent/train/nachos'.\n",
      "There are 0 directories and 75 images in '/home/akhil/Documents/Tf_Local/101_food_classes_10_percent/101_food_classes_10_percent/train/tiramisu'.\n",
      "There are 0 directories and 75 images in '/home/akhil/Documents/Tf_Local/101_food_classes_10_percent/101_food_classes_10_percent/train/beef_carpaccio'.\n",
      "There are 0 directories and 75 images in '/home/akhil/Documents/Tf_Local/101_food_classes_10_percent/101_food_classes_10_percent/train/filet_mignon'.\n",
      "There are 0 directories and 75 images in '/home/akhil/Documents/Tf_Local/101_food_classes_10_percent/101_food_classes_10_percent/train/guacamole'.\n",
      "There are 0 directories and 75 images in '/home/akhil/Documents/Tf_Local/101_food_classes_10_percent/101_food_classes_10_percent/train/scallops'.\n",
      "There are 0 directories and 75 images in '/home/akhil/Documents/Tf_Local/101_food_classes_10_percent/101_food_classes_10_percent/train/samosa'.\n",
      "There are 0 directories and 75 images in '/home/akhil/Documents/Tf_Local/101_food_classes_10_percent/101_food_classes_10_percent/train/frozen_yogurt'.\n",
      "There are 0 directories and 75 images in '/home/akhil/Documents/Tf_Local/101_food_classes_10_percent/101_food_classes_10_percent/train/bruschetta'.\n",
      "There are 0 directories and 75 images in '/home/akhil/Documents/Tf_Local/101_food_classes_10_percent/101_food_classes_10_percent/train/churros'.\n",
      "There are 0 directories and 75 images in '/home/akhil/Documents/Tf_Local/101_food_classes_10_percent/101_food_classes_10_percent/train/risotto'.\n",
      "There are 0 directories and 75 images in '/home/akhil/Documents/Tf_Local/101_food_classes_10_percent/101_food_classes_10_percent/train/chicken_wings'.\n",
      "There are 0 directories and 75 images in '/home/akhil/Documents/Tf_Local/101_food_classes_10_percent/101_food_classes_10_percent/train/creme_brulee'.\n",
      "There are 0 directories and 75 images in '/home/akhil/Documents/Tf_Local/101_food_classes_10_percent/101_food_classes_10_percent/train/ceviche'.\n",
      "There are 0 directories and 75 images in '/home/akhil/Documents/Tf_Local/101_food_classes_10_percent/101_food_classes_10_percent/train/ice_cream'.\n",
      "There are 0 directories and 75 images in '/home/akhil/Documents/Tf_Local/101_food_classes_10_percent/101_food_classes_10_percent/train/fried_rice'.\n",
      "There are 0 directories and 75 images in '/home/akhil/Documents/Tf_Local/101_food_classes_10_percent/101_food_classes_10_percent/train/onion_rings'.\n",
      "There are 0 directories and 75 images in '/home/akhil/Documents/Tf_Local/101_food_classes_10_percent/101_food_classes_10_percent/train/pho'.\n",
      "There are 0 directories and 75 images in '/home/akhil/Documents/Tf_Local/101_food_classes_10_percent/101_food_classes_10_percent/train/tacos'.\n",
      "There are 0 directories and 75 images in '/home/akhil/Documents/Tf_Local/101_food_classes_10_percent/101_food_classes_10_percent/train/chicken_quesadilla'.\n",
      "There are 0 directories and 75 images in '/home/akhil/Documents/Tf_Local/101_food_classes_10_percent/101_food_classes_10_percent/train/cheesecake'.\n",
      "There are 0 directories and 75 images in '/home/akhil/Documents/Tf_Local/101_food_classes_10_percent/101_food_classes_10_percent/train/pulled_pork_sandwich'.\n",
      "There are 0 directories and 75 images in '/home/akhil/Documents/Tf_Local/101_food_classes_10_percent/101_food_classes_10_percent/train/club_sandwich'.\n",
      "There are 0 directories and 75 images in '/home/akhil/Documents/Tf_Local/101_food_classes_10_percent/101_food_classes_10_percent/train/baby_back_ribs'.\n",
      "There are 0 directories and 75 images in '/home/akhil/Documents/Tf_Local/101_food_classes_10_percent/101_food_classes_10_percent/train/spaghetti_bolognese'.\n",
      "There are 0 directories and 75 images in '/home/akhil/Documents/Tf_Local/101_food_classes_10_percent/101_food_classes_10_percent/train/bread_pudding'.\n",
      "There are 0 directories and 75 images in '/home/akhil/Documents/Tf_Local/101_food_classes_10_percent/101_food_classes_10_percent/train/omelette'.\n",
      "There are 0 directories and 75 images in '/home/akhil/Documents/Tf_Local/101_food_classes_10_percent/101_food_classes_10_percent/train/takoyaki'.\n",
      "There are 0 directories and 75 images in '/home/akhil/Documents/Tf_Local/101_food_classes_10_percent/101_food_classes_10_percent/train/paella'.\n",
      "There are 0 directories and 75 images in '/home/akhil/Documents/Tf_Local/101_food_classes_10_percent/101_food_classes_10_percent/train/escargots'.\n",
      "There are 0 directories and 75 images in '/home/akhil/Documents/Tf_Local/101_food_classes_10_percent/101_food_classes_10_percent/train/hummus'.\n",
      "There are 0 directories and 75 images in '/home/akhil/Documents/Tf_Local/101_food_classes_10_percent/101_food_classes_10_percent/train/falafel'.\n",
      "There are 0 directories and 75 images in '/home/akhil/Documents/Tf_Local/101_food_classes_10_percent/101_food_classes_10_percent/train/caesar_salad'.\n",
      "There are 0 directories and 75 images in '/home/akhil/Documents/Tf_Local/101_food_classes_10_percent/101_food_classes_10_percent/train/sashimi'.\n"
     ]
    }
   ],
   "source": [
    "walk_through_dir(\"/home/akhil/Documents/Tf_Local/101_food_classes_10_percent\")"
   ]
  },
  {
   "cell_type": "code",
   "execution_count": 4,
   "metadata": {},
   "outputs": [
    {
     "name": "stdout",
     "output_type": "stream",
     "text": [
      "Found 7575 files belonging to 101 classes.\n"
     ]
    },
    {
     "name": "stderr",
     "output_type": "stream",
     "text": [
      "I0000 00:00:1740216711.999757  502346 gpu_device.cc:2022] Created device /job:localhost/replica:0/task:0/device:GPU:0 with 4024 MB memory:  -> device: 0, name: NVIDIA GeForce RTX 3070 Laptop GPU, pci bus id: 0000:01:00.0, compute capability: 8.6\n"
     ]
    },
    {
     "name": "stdout",
     "output_type": "stream",
     "text": [
      "Found 25250 files belonging to 101 classes.\n"
     ]
    }
   ],
   "source": [
    "# Set up data input\n",
    "\n",
    "import tensorflow as tf\n",
    "import tf_keras\n",
    "IMG_SIZE = (224 ,224)\n",
    "train_data_all_10_percent = tf_keras.preprocessing.image_dataset_from_directory(train_dir ,\n",
    "                                                                                label_mode = \"categorical\",\n",
    "                                                                                image_size = IMG_SIZE)\n",
    "test_data = tf_keras.preprocessing.image_dataset_from_directory(test_dir,\n",
    "                                                                label_mode = \"categorical\",\n",
    "                                                                image_size = IMG_SIZE,\n",
    "                                                                shuffle = False ) # Dont Shuffle the  test daata for prediction analysis \n",
    "\n"
   ]
  },
  {
   "cell_type": "markdown",
   "metadata": {},
   "source": [
    "- Model Checkpoit \n",
    "- Data augmentation layer \n",
    "- Build headless fnctional efficientB0 model \n",
    "- Compile \n",
    "- Feeature Extract for 5 full passes on training data\n",
    "- Validate on 15 % of Test data \n",
    "\n"
   ]
  },
  {
   "cell_type": "code",
   "execution_count": 5,
   "metadata": {},
   "outputs": [],
   "source": [
    "# Training teh transfer learning model with 10 percent of the data \n",
    "\n",
    "# Create Checkpoint Callback \n",
    "checkpoint_path = \"101_classes_10_percent_data_model_checkpoint\"\n",
    "checkpoint_callback = tf_keras.callbacks.ModelCheckpoint(checkpoint_path,\n",
    "                                                         save_weights_only= True,\n",
    "                                                         monitor= \"accuracy\",\n",
    "                                                         save_best_only=True)"
   ]
  },
  {
   "cell_type": "markdown",
   "metadata": {},
   "source": [
    "## Pushing Data Augmentaion on GPU 💷"
   ]
  },
  {
   "cell_type": "code",
   "execution_count": 6,
   "metadata": {},
   "outputs": [],
   "source": [
    "# Data Augmentation Layer\n",
    "\n",
    "from tf_keras import layers\n",
    "from tf_keras.layers.experimental import preprocessing \n",
    "from tf_keras.models import Sequential\n",
    "\n",
    "data_augmentation = Sequential([\n",
    "    preprocessing.RandomFlip(\"horizontal\"),\n",
    "    preprocessing.RandomRotation(0.2),\n",
    "    preprocessing.RandomHeight(0.2),\n",
    "    preprocessing.RandomWidth(0.2),\n",
    "    preprocessing.RandomZoom(0.2)  #Rescaling is not required in this case , but required in the resnet models\n",
    "     \n",
    "], name = \"data_augmentation\")\n"
   ]
  },
  {
   "cell_type": "code",
   "execution_count": 10,
   "metadata": {},
   "outputs": [
    {
     "name": "stdout",
     "output_type": "stream",
     "text": [
      "Epoch 1/5\n"
     ]
    },
    {
     "name": "stderr",
     "output_type": "stream",
     "text": [
      "I0000 00:00:1740238820.246919  503621 cuda_dnn.cc:529] Loaded cuDNN version 90300\n",
      "WARNING: All log messages before absl::InitializeLog() is called are written to STDERR\n",
      "I0000 00:00:1740238820.991436  503620 service.cc:148] XLA service 0x7a929082ccd0 initialized for platform CUDA (this does not guarantee that XLA will be used). Devices:\n",
      "I0000 00:00:1740238820.991660  503620 service.cc:156]   StreamExecutor device (0): NVIDIA GeForce RTX 3070 Laptop GPU, Compute Capability 8.6\n",
      "2025-02-22 16:40:21.004717: I tensorflow/compiler/mlir/tensorflow/utils/dump_mlir_util.cc:268] disabling MLIR crash reproducer, set env var `MLIR_CRASH_REPRODUCER_DIRECTORY` to enable.\n",
      "I0000 00:00:1740238821.159345  503620 device_compiler.h:188] Compiled cluster using XLA!  This line is logged at most once for the lifetime of the process.\n"
     ]
    },
    {
     "name": "stdout",
     "output_type": "stream",
     "text": [
      "237/237 [==============================] - 56s 203ms/step - loss: 3.3641 - accuracy: 0.2737 - val_loss: 2.4797 - val_accuracy: 0.4494\n",
      "Epoch 2/5\n",
      "237/237 [==============================] - 42s 177ms/step - loss: 2.2018 - accuracy: 0.4987 - val_loss: 2.0431 - val_accuracy: 0.5042\n",
      "Epoch 3/5\n",
      "237/237 [==============================] - 42s 179ms/step - loss: 1.8292 - accuracy: 0.5659 - val_loss: 1.8944 - val_accuracy: 0.5252\n",
      "Epoch 4/5\n",
      "237/237 [==============================] - 44s 184ms/step - loss: 1.5878 - accuracy: 0.6182 - val_loss: 1.8127 - val_accuracy: 0.5294\n",
      "Epoch 5/5\n",
      "237/237 [==============================] - 44s 187ms/step - loss: 1.4506 - accuracy: 0.6445 - val_loss: 1.7496 - val_accuracy: 0.5482\n"
     ]
    }
   ],
   "source": [
    "# Headless model , with Functional API \n",
    "# Baase Model , freeaze some layers\n",
    "\n",
    "base_model = tf_keras.applications.EfficientNetB0(include_top=False)\n",
    "base_model.trainable = False\n",
    "\n",
    "# Model Architechure with trinable top layers\n",
    "\n",
    "inputs = layers.Input(shape = (224,224,3), name = \"input_layer\")\n",
    "x = data_augmentation(inputs)  # Computed on GPU during Training phase \n",
    "x = base_model(x, training = False) # Freezed Layers \n",
    "x = layers.GlobalAveragePooling2D()(x)\n",
    "outputs = layers.Dense(101, activation = \"softmax\")(x)\n",
    "model = tf_keras.Model(inputs, outputs)\n",
    "\n",
    "# Compile the model\n",
    "\n",
    "model.compile(loss = \"categorical_crossentropy\",\n",
    "              optimizer = tf_keras.optimizers.Adam(),\n",
    "              metrics = [\"accuracy\"])\n",
    "\n",
    "# Fit the model\n",
    "\n",
    "history_10_percent = model.fit(train_data_all_10_percent,\n",
    "                               epochs = 5,\n",
    "                               steps_per_epoch = len(train_data_all_10_percent),\n",
    "                               validation_data = test_data,\n",
    "                               validation_steps = int(0.15 * len(test_data)),\n",
    "                               callbacks = [checkpoint_callback])\n",
    "\n"
   ]
  },
  {
   "cell_type": "code",
   "execution_count": 11,
   "metadata": {},
   "outputs": [
    {
     "name": "stdout",
     "output_type": "stream",
     "text": [
      "Model: \"model\"\n",
      "_________________________________________________________________\n",
      " Layer (type)                Output Shape              Param #   \n",
      "=================================================================\n",
      " input_layer (InputLayer)    [(None, 224, 224, 3)]     0         \n",
      "                                                                 \n",
      " data_augmentation (Sequent  (None, None, None, 3)     0         \n",
      " ial)                                                            \n",
      "                                                                 \n",
      " efficientnetb0 (Functional  (None, None, None, 1280   4049571   \n",
      " )                           )                                   \n",
      "                                                                 \n",
      " global_average_pooling2d (  (None, 1280)              0         \n",
      " GlobalAveragePooling2D)                                         \n",
      "                                                                 \n",
      " dense (Dense)               (None, 101)               129381    \n",
      "                                                                 \n",
      "=================================================================\n",
      "Total params: 4178952 (15.94 MB)\n",
      "Trainable params: 129381 (505.39 KB)\n",
      "Non-trainable params: 4049571 (15.45 MB)\n",
      "_________________________________________________________________\n"
     ]
    }
   ],
   "source": [
    "model.summary()"
   ]
  },
  {
   "cell_type": "code",
   "execution_count": null,
   "metadata": {},
   "outputs": [],
   "source": []
  }
 ],
 "metadata": {
  "kernelspec": {
   "display_name": "myenv",
   "language": "python",
   "name": "python3"
  },
  "language_info": {
   "codemirror_mode": {
    "name": "ipython",
    "version": 3
   },
   "file_extension": ".py",
   "mimetype": "text/x-python",
   "name": "python",
   "nbconvert_exporter": "python",
   "pygments_lexer": "ipython3",
   "version": "3.12.3"
  }
 },
 "nbformat": 4,
 "nbformat_minor": 2
}
